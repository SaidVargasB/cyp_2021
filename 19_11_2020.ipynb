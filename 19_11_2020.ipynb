{
  "nbformat": 4,
  "nbformat_minor": 0,
  "metadata": {
    "colab": {
      "name": "19/11/2020",
      "provenance": [],
      "authorship_tag": "ABX9TyOIUmjHRsG3GcCcC7gEYgsK",
      "include_colab_link": true
    },
    "kernelspec": {
      "name": "python3",
      "display_name": "Python 3"
    }
  },
  "cells": [
    {
      "cell_type": "markdown",
      "metadata": {
        "id": "view-in-github",
        "colab_type": "text"
      },
      "source": [
        "<a href=\"https://colab.research.google.com/github/SaidVargasB/cyp_2021/blob/main/19_11_2020.ipynb\" target=\"_parent\"><img src=\"https://colab.research.google.com/assets/colab-badge.svg\" alt=\"Open In Colab\"/></a>"
      ]
    },
    {
      "cell_type": "code",
      "metadata": {
        "colab": {
          "base_uri": "https://localhost:8080/"
        },
        "id": "4D2u4GoWkk-G",
        "outputId": "4552d494-6db2-44a4-943e-3ac0db152bc3"
      },
      "source": [
        "#Concepto de asignación\n",
        "I= 0\n",
        "I= I + 1\n",
        "I= I + 1\n",
        "print(f\"I= {I}\")\n",
        "J= 5 ** 2 / 3\n",
        "print(f\"J = {J}\")"
      ],
      "execution_count": 2,
      "outputs": [
        {
          "output_type": "stream",
          "text": [
            "I= 2\n",
            "J = 8.333333333333334\n"
          ],
          "name": "stdout"
        }
      ]
    },
    {
      "cell_type": "code",
      "metadata": {
        "colab": {
          "base_uri": "https://localhost:8080/"
        },
        "id": "C0rJuffDngGk",
        "outputId": "fa5be2f0-e5c6-429b-dbb0-4a57ce9a9e34"
      },
      "source": [
        "A=0\n",
        "B=0\n",
        "C=0\n",
        "D=0\n",
        "\n",
        "A= int(input(\"Dame un valor entero\"))\n",
        "B= int(input(\"Dame un valor entero\"))\n",
        "C= int(input(\"Dame un valor entero\"))\n",
        "D= int(input(\"Dame un valor entero\"))\n",
        "\n",
        "print(D)\n",
        "print(C)\n",
        "print(B)\n",
        "print(A)"
      ],
      "execution_count": 3,
      "outputs": [
        {
          "output_type": "stream",
          "text": [
            "Dame un valor entero10\n",
            "Dame un valor entero20\n",
            "Dame un valor entero30\n",
            "Dame un valor entero40\n",
            "40\n",
            "30\n",
            "20\n",
            "10\n"
          ],
          "name": "stdout"
        }
      ]
    },
    {
      "cell_type": "code",
      "metadata": {
        "colab": {
          "base_uri": "https://localhost:8080/"
        },
        "id": "8xrgW1fVoS6B",
        "outputId": "f27207c2-7f27-4912-b89c-0854edf64c54"
      },
      "source": [
        "#Ejemplo 1.7  \n",
        "A=0\n",
        "B=0\n",
        "A= int(input(\"Dame un entero\"))\n",
        "B=int(input(\"Dame un entero\"))\n",
        "RES= (A+B)** 2 / 3\n",
        "print(RES)"
      ],
      "execution_count": 4,
      "outputs": [
        {
          "output_type": "stream",
          "text": [
            "Dame un entero5\n",
            "Dame un entero6\n",
            "40.333333333333336\n"
          ],
          "name": "stdout"
        }
      ]
    },
    {
      "cell_type": "code",
      "metadata": {
        "colab": {
          "base_uri": "https://localhost:8080/"
        },
        "id": "8DCi0CLvqNwA",
        "outputId": "a41178c2-4766-44e1-8603-d8f61476403a"
      },
      "source": [
        "#Ejercicio 1.8\n",
        "MAT=0\n",
        "CAL1=0\n",
        "CAL2=0\n",
        "CAL3=0\n",
        "CAL4=0\n",
        "CAL5=0\n",
        "PRO=0\n",
        "\n",
        "MAT= int(input(\"Dame tu matricula\"))\n",
        "CAL1= float= int(input(\"Dame tu calificacion\"))\n",
        "CAL2= float= int(input(\"Dame tu calificacion\"))\n",
        "CAL3= float= int(input(\"Dame tu calificacion\"))\n",
        "CAL4= float= int(input(\"Dame tu calificacion\"))\n",
        "CAL5= float= int(input(\"Dame tu calificacion\"))\n",
        "PRO=(CAL1 + CAL2 + CAL3 + CAL4 + CAL5) / 5\n",
        "\n",
        "print(MAT)\n",
        "print(PRO)"
      ],
      "execution_count": 23,
      "outputs": [
        {
          "output_type": "stream",
          "text": [
            "Dame tu matricula318348\n",
            "Dame tu calificacion10\n",
            "Dame tu calificacion10\n",
            "Dame tu calificacion10\n",
            "Dame tu calificacion10\n",
            "Dame tu calificacion9\n",
            "318348\n",
            "9.8\n"
          ],
          "name": "stdout"
        }
      ]
    },
    {
      "cell_type": "code",
      "metadata": {
        "colab": {
          "base_uri": "https://localhost:8080/"
        },
        "id": "mM3kvTmoy7tL",
        "outputId": "4a13a6a5-161a-4bfe-86c7-9b9d02e1d15a"
      },
      "source": [
        "#Ejercicio 1.9\n",
        "NUM=0\n",
        "CUA=0\n",
        "CUB=0\n",
        "\n",
        "NUM= int(input(\"Dame un numero\"))\n",
        "\n",
        "CUA= NUM**2\n",
        "CUB= NUM**3\n",
        "print( \"El cuadrado de\", NUM, \"es\", CUA, \"y su cubo es\", CUB)"
      ],
      "execution_count": 17,
      "outputs": [
        {
          "output_type": "stream",
          "text": [
            "Dame un numero8\n",
            "El cuadrado de 8 es 64 y su cubo es 512\n"
          ],
          "name": "stdout"
        }
      ]
    },
    {
      "cell_type": "code",
      "metadata": {
        "id": "vgdvyU7t1WyL"
      },
      "source": [
        "#Ejercicio 1.10\n",
        "base=0\n",
        "altura=0\n",
        "area=0\n",
        "per=0\n",
        "\n",
        "base=float= int(input(\"Ingresa la base\"))\n",
        "altura=float= int(input(\"Ingresa la altura\"))\n",
        "area=(base*altura)\n",
        "per=(2*base)+(2*altura)\n",
        "\n",
        "print(f\"el área es {area}\")\n",
        "print(f\"el perímetro es {per}\")"
      ],
      "execution_count": 36,
      "outputs": []
    }
  ]
}