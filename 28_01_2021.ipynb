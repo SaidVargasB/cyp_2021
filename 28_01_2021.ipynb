{
  "nbformat": 4,
  "nbformat_minor": 0,
  "metadata": {
    "colab": {
      "name": "28/01/2021",
      "provenance": [],
      "authorship_tag": "ABX9TyObSaEyXEW2wixzVLBLAhVN",
      "include_colab_link": true
    },
    "kernelspec": {
      "name": "python3",
      "display_name": "Python 3"
    }
  },
  "cells": [
    {
      "cell_type": "markdown",
      "metadata": {
        "id": "view-in-github",
        "colab_type": "text"
      },
      "source": [
        "<a href=\"https://colab.research.google.com/github/SaidVargasB/cyp_2021/blob/main/28_01_2021.ipynb\" target=\"_parent\"><img src=\"https://colab.research.google.com/assets/colab-badge.svg\" alt=\"Open In Colab\"/></a>"
      ]
    },
    {
      "cell_type": "markdown",
      "metadata": {
        "id": "Pk8w8GdcBwga"
      },
      "source": [
        "# Tuplas\r\n",
        "\r\n",
        "- Tipo de dato lineal, estructura de datos\r\n",
        "- No mutable.\r\n",
        "- Puede contener de 0 a n elementos.\r\n",
        "- Se declara xon '(' y ')'\r\n",
        "- No puedes agregar, ni eliminar elementos.\r\n",
        "- Pueden ser anidadas.\r\n",
        "- Los argumentos a una función son enviadas como tuplas.\r\n"
      ]
    },
    {
      "cell_type": "code",
      "metadata": {
        "colab": {
          "base_uri": "https://localhost:8080/"
        },
        "id": "lSBbiqq0CbTG",
        "outputId": "f63207ed-ea47-4fd4-9494-618b7ad16047"
      },
      "source": [
        "frutas= ('Sandía','Melón','Limón','Mango','Melón')\r\n",
        "print(frutas)\r\n",
        "print(frutas[1:3:1])\r\n",
        "print(frutas.count('Melón'))\r\n",
        "\r\n",
        "# Son inmutables\r\n",
        "# frutas[1]=\"manzanas\"\r\n",
        "\r\n",
        "#¿Para qué se usan?\r\n",
        "conexion=( '132.248.12.12', 3306, 'cyp_bd', ' usr_test', '1234dios' )\r\n",
        "print(f\"usuarios{ conexion[3] } y pasword {conexion[4] }\")"
      ],
      "execution_count": 11,
      "outputs": [
        {
          "output_type": "stream",
          "text": [
            "('Sandía', 'Melón', 'Limón', 'Mango', 'Melón')\n",
            "('Melón', 'Limón')\n",
            "2\n",
            "usuarios usr_test y pasword 1234dios\n"
          ],
          "name": "stdout"
        }
      ]
    },
    {
      "cell_type": "code",
      "metadata": {
        "colab": {
          "base_uri": "https://localhost:8080/"
        },
        "id": "3BKWCmdxDQ-B",
        "outputId": "09de8ffa-6270-4e05-e5b0-5d2f3c4b1c86"
      },
      "source": [
        "print(dir(frutas))"
      ],
      "execution_count": 3,
      "outputs": [
        {
          "output_type": "stream",
          "text": [
            "['__add__', '__class__', '__contains__', '__delattr__', '__dir__', '__doc__', '__eq__', '__format__', '__ge__', '__getattribute__', '__getitem__', '__getnewargs__', '__gt__', '__hash__', '__init__', '__init_subclass__', '__iter__', '__le__', '__len__', '__lt__', '__mul__', '__ne__', '__new__', '__reduce__', '__reduce_ex__', '__repr__', '__rmul__', '__setattr__', '__sizeof__', '__str__', '__subclasshook__', 'count', 'index']\n"
          ],
          "name": "stdout"
        }
      ]
    },
    {
      "cell_type": "markdown",
      "metadata": {
        "id": "iA1tiaaqF3h-"
      },
      "source": [
        "#Diccionarios\r\n",
        "- Estructura de datos semi-lineal.\r\n",
        "- Formada por pares, llave-valor.\r\n",
        "- Equivalente al tipo de dato JSON, de JavaScript.\r\n",
        "- Utiliza organización por función de disperción.\r\n",
        "- Se declara con los elementos '{' y '}'\r\n",
        "- El selector usa valores de tipo string (llave)\r\n",
        "- No se puede seleccionar por offset [1]\r\n",
        "- Son mutables."
      ]
    },
    {
      "cell_type": "code",
      "metadata": {
        "colab": {
          "base_uri": "https://localhost:8080/"
        },
        "id": "_NZu0LK8HCsa",
        "outputId": "ca918ea6-2063-4a35-bb4b-bd3aea73a7fb"
      },
      "source": [
        "alumno= { 'nombre': 'Juan Pérez'}\r\n",
        "print( alumno )\r\n",
        "print( alumno['nombre'])"
      ],
      "execution_count": 12,
      "outputs": [
        {
          "output_type": "stream",
          "text": [
            "{'nombre': 'Juan Pérez'}\n",
            "Juan Pérez\n"
          ],
          "name": "stdout"
        }
      ]
    },
    {
      "cell_type": "code",
      "metadata": {
        "colab": {
          "base_uri": "https://localhost:8080/"
        },
        "id": "g9iZVcNtUSQc",
        "outputId": "03ad126c-1b42-4c28-ccd5-f3bab4146777"
      },
      "source": [
        "#Juan\r\n",
        "alumno = {'nombre':'Juan Pérez','edad':18,'altura':1.71,'estatus':'Aprobado','numeros':[555645902, 55326372]}\r\n",
        "print(alumno)\r\n",
        "print( alumno ['numeros'])"
      ],
      "execution_count": 20,
      "outputs": [
        {
          "output_type": "stream",
          "text": [
            "{'nombre': 'Juan Pérez', 'edad': 18, 'altura': 1.71, 'estatus': 'Aprobado', 'numeros': [555645902, 55326372]}\n",
            "[555645902, 55326372]\n"
          ],
          "name": "stdout"
        }
      ]
    },
    {
      "cell_type": "code",
      "metadata": {
        "colab": {
          "base_uri": "https://localhost:8080/"
        },
        "id": "vJPMlbTqUSbw",
        "outputId": "cf8c796c-028f-4fdb-8428-0c348d20affd"
      },
      "source": [
        "#Yael\r\n",
        "materia = [\"Algebra\", \"Computadoras y Programacion\", \"Calculo Diferencial e Integral\", \"Introduccion a la Ingenieria\", \"Geometria Analitica\"]\r\n",
        "alumno = {\"ID\" : (123456789), \"Nombre\" : \"Yael\", \"Apellido\" : \"Castillo\", \"Edad\" : 20, \"Escuela\" : \"FES Aragon\", \"Materia\" : materia}\r\n",
        "for i in alumno:\r\n",
        "    print(f\"Clave: {i} - Valor: {alumno[i]}\")"
      ],
      "execution_count": 19,
      "outputs": [
        {
          "output_type": "stream",
          "text": [
            "Clave: ID - Valor: 123456789\n",
            "Clave: Nombre - Valor: Yael\n",
            "Clave: Apellido - Valor: Castillo\n",
            "Clave: Edad - Valor: 20\n",
            "Clave: Escuela - Valor: FES Aragon\n",
            "Clave: Materia - Valor: ['Algebra', 'Computadoras y Programacion', 'Calculo Diferencial e Integral', 'Introduccion a la Ingenieria', 'Geometria Analitica']\n"
          ],
          "name": "stdout"
        }
      ]
    },
    {
      "cell_type": "code",
      "metadata": {
        "id": "RCEajPdgUSmc"
      },
      "source": [
        "#Kareli\r\n",
        "alumno = {    'nombre'  : 'Juan Pérez'  ,\r\n",
        "          'edad' : 18, \r\n",
        "          'Matricula': 312193,\r\n",
        "          'calificaciones' : {'Mate': 8 , 'ciencias': 9, 'ingles': 8 },\r\n",
        "          'aprovado' : True,\r\n",
        "          'direccion': {\r\n",
        "                        'calle':'Rancho seco',\r\n",
        "                        'numero': 's/n',\r\n",
        "                        'colonia': 'impulsora popular avicola',\r\n",
        "                        'municipio': 'Mi-nezota',\r\n",
        "                        'estado':{\r\n",
        "                                   'clave':15,\r\n",
        "                                   'nombre_clave':'MEX',\r\n",
        "                                   'nombre':\"Estado de México\"\r\n",
        "                                  }\r\n",
        "                       }\r\n",
        "          }"
      ],
      "execution_count": 18,
      "outputs": []
    },
    {
      "cell_type": "code",
      "metadata": {
        "id": "NWbQ4LHOOPfw"
      },
      "source": [
        "cliente= []"
      ],
      "execution_count": 21,
      "outputs": []
    },
    {
      "cell_type": "code",
      "metadata": {
        "colab": {
          "base_uri": "https://localhost:8080/"
        },
        "id": "CpTkfsd0VEtC",
        "outputId": "2a4f479e-83dc-4192-efe7-7684634b1e2f"
      },
      "source": [
        "funciones= dir(dict)\r\n",
        "for funciones in funciones:\r\n",
        "  print(funciones)"
      ],
      "execution_count": 15,
      "outputs": [
        {
          "output_type": "stream",
          "text": [
            "__class__\n",
            "__contains__\n",
            "__delattr__\n",
            "__delitem__\n",
            "__dir__\n",
            "__doc__\n",
            "__eq__\n",
            "__format__\n",
            "__ge__\n",
            "__getattribute__\n",
            "__getitem__\n",
            "__gt__\n",
            "__hash__\n",
            "__init__\n",
            "__init_subclass__\n",
            "__iter__\n",
            "__le__\n",
            "__len__\n",
            "__lt__\n",
            "__ne__\n",
            "__new__\n",
            "__reduce__\n",
            "__reduce_ex__\n",
            "__repr__\n",
            "__setattr__\n",
            "__setitem__\n",
            "__sizeof__\n",
            "__str__\n",
            "__subclasshook__\n",
            "clear\n",
            "copy\n",
            "fromkeys\n",
            "get\n",
            "items\n",
            "keys\n",
            "pop\n",
            "popitem\n",
            "setdefault\n",
            "update\n",
            "values\n"
          ],
          "name": "stdout"
        }
      ]
    },
    {
      "cell_type": "markdown",
      "metadata": {
        "id": "ZS3-1NJKVE7u"
      },
      "source": [
        "#Manipulación de los pares llave-valor.\r\n",
        "- keys() Te regresa una tupla con los strings llave del diccionario.\r\n",
        "- values() Te regresa sólo los valores.\r\n",
        "- items() Te regresa los pares."
      ]
    },
    {
      "cell_type": "code",
      "metadata": {
        "colab": {
          "base_uri": "https://localhost:8080/"
        },
        "id": "qT-fomSqWgHO",
        "outputId": "1175ce9f-9f48-480a-e1b1-8dd9ddb85783"
      },
      "source": [
        "#Kareli\r\n",
        "print(alumno)\r\n",
        "llaves= alumno.keys()\r\n",
        "print(llaves)\r\n",
        "for elem in llaves:\r\n",
        "  print(elem)\r\n",
        "  print(alumno[elem])\r\n",
        "#print(help(llaves))\r\n",
        "\r\n",
        "#mmanipular los valores\r\n",
        "valores=alumno.values()\r\n",
        "print(valores)\r\n",
        "print(\".-.-..-.-..-.-..-.-.--\")\r\n",
        "for val in valores:\r\n",
        "  print(val)\r\n",
        "\r\n",
        "#Manipular pares\r\n",
        "pares=alumno.items()\r\n",
        "print(pares)\r\n",
        "for par in pares:\r\n",
        "  print(par)"
      ],
      "execution_count": 23,
      "outputs": [
        {
          "output_type": "stream",
          "text": [
            "{'nombre': 'Juan Pérez', 'edad': 18, 'altura': 1.71, 'estatus': 'Aprobado', 'numeros': [555645902, 55326372]}\n",
            "dict_keys(['nombre', 'edad', 'altura', 'estatus', 'numeros'])\n",
            "nombre\n",
            "Juan Pérez\n",
            "edad\n",
            "18\n",
            "altura\n",
            "1.71\n",
            "estatus\n",
            "Aprobado\n",
            "numeros\n",
            "[555645902, 55326372]\n",
            "dict_values(['Juan Pérez', 18, 1.71, 'Aprobado', [555645902, 55326372]])\n",
            ".-.-..-.-..-.-..-.-.--\n",
            "Juan Pérez\n",
            "18\n",
            "1.71\n",
            "Aprobado\n",
            "[555645902, 55326372]\n",
            "dict_items([('nombre', 'Juan Pérez'), ('edad', 18), ('altura', 1.71), ('estatus', 'Aprobado'), ('numeros', [555645902, 55326372])])\n",
            "('nombre', 'Juan Pérez')\n",
            "('edad', 18)\n",
            "('altura', 1.71)\n",
            "('estatus', 'Aprobado')\n",
            "('numeros', [555645902, 55326372])\n"
          ],
          "name": "stdout"
        }
      ]
    },
    {
      "cell_type": "code",
      "metadata": {
        "colab": {
          "base_uri": "https://localhost:8080/"
        },
        "id": "Tz9cTQ72Yxip",
        "outputId": "0ff3b125-32cc-41f0-955d-a3d3cc66616b"
      },
      "source": [
        "print(help(dict.keys))"
      ],
      "execution_count": 16,
      "outputs": [
        {
          "output_type": "stream",
          "text": [
            "Help on method_descriptor:\n",
            "\n",
            "keys(...)\n",
            "    D.keys() -> a set-like object providing a view on D's keys\n",
            "\n",
            "None\n"
          ],
          "name": "stdout"
        }
      ]
    }
  ]
}