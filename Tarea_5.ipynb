{
  "nbformat": 4,
  "nbformat_minor": 0,
  "metadata": {
    "colab": {
      "name": "Tarea 5",
      "provenance": [],
      "authorship_tag": "ABX9TyPWxsx45xKoAWGr+bbAf9By",
      "include_colab_link": true
    },
    "kernelspec": {
      "name": "python3",
      "display_name": "Python 3"
    }
  },
  "cells": [
    {
      "cell_type": "markdown",
      "metadata": {
        "id": "view-in-github",
        "colab_type": "text"
      },
      "source": [
        "<a href=\"https://colab.research.google.com/github/SaidVargasB/cyp_2021/blob/main/Tarea_5.ipynb\" target=\"_parent\"><img src=\"https://colab.research.google.com/assets/colab-badge.svg\" alt=\"Open In Colab\"/></a>"
      ]
    },
    {
      "cell_type": "code",
      "metadata": {
        "id": "H6zjIZUtLwm_",
        "colab": {
          "base_uri": "https://localhost:8080/"
        },
        "outputId": "458afb62-5db0-4789-b3f2-36de5e023de6"
      },
      "source": [
        "#Ejercicio 3.1 pág. 109\n",
        "msg= \"Sueldo: $\"\n",
        "salario= float(input(\"Ingrese la cantidad de salarios: \"))\n",
        "salario= [float(input(msg)), float(input(msg)), float(input(msg)), float(input(msg)), float(input(msg)), float(input(msg)), float(input(msg)), float(input(msg)), float(input(msg)),  float(input(msg))]\n",
        "nomina= salario[0] + salario[1] + salario[2]  + salario[3] + salario[4] + salario[5] + salario[6] + salario[7] + salario[8]  + salario[9]\n",
        "print(\"Nomina total: $\", nomina) "
      ],
      "execution_count": 12,
      "outputs": [
        {
          "output_type": "stream",
          "text": [
            "Ingrese la cantidad de salarios: 10\n",
            "Sueldo: $1500\n",
            "Sueldo: $2500\n",
            "Sueldo: $1000\n",
            "Sueldo: $950\n",
            "Sueldo: $1600\n",
            "Sueldo: $3000\n",
            "Sueldo: $2200\n",
            "Sueldo: $1250\n",
            "Sueldo: $3250\n",
            "Sueldo: $4500\n",
            "Nomina total: $ 21750.0\n"
          ],
          "name": "stdout"
        }
      ]
    },
    {
      "cell_type": "code",
      "metadata": {
        "colab": {
          "base_uri": "https://localhost:8080/"
        },
        "id": "cNJdh51D66_M",
        "outputId": "a6b24ae8-037a-4a5e-a8bd-029a12cfab31"
      },
      "source": [
        "#Ejercicio 3.4 pág. 117\n",
        "total=0\n",
        "flag=1.0\n",
        "while flag > 0.0:\n",
        "  aux= float(input(\"Monto: $\"))\n",
        "  total+= (aux if aux > 0.0 else 0.0)\n",
        "  flag=aux\n",
        "print(\"El tota es de: $\", total)"
      ],
      "execution_count": 13,
      "outputs": [
        {
          "output_type": "stream",
          "text": [
            "Monto: $1200\n",
            "Monto: $2500\n",
            "Monto: $1240\n",
            "Monto: $300\n",
            "Monto: $560\n",
            "Monto: $-1\n",
            "El tota es de: $ 5800.0\n"
          ],
          "name": "stdout"
        }
      ]
    }
  ]
}