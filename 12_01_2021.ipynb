{
  "nbformat": 4,
  "nbformat_minor": 0,
  "metadata": {
    "colab": {
      "name": "12/01/2021",
      "provenance": [],
      "authorship_tag": "ABX9TyNVOo/4OGOw9oEX3wrvj7fc",
      "include_colab_link": true
    },
    "kernelspec": {
      "name": "python3",
      "display_name": "Python 3"
    }
  },
  "cells": [
    {
      "cell_type": "markdown",
      "metadata": {
        "id": "view-in-github",
        "colab_type": "text"
      },
      "source": [
        "<a href=\"https://colab.research.google.com/github/SaidVargasB/cyp_2021/blob/main/12_01_2021.ipynb\" target=\"_parent\"><img src=\"https://colab.research.google.com/assets/colab-badge.svg\" alt=\"Open In Colab\"/></a>"
      ]
    },
    {
      "cell_type": "markdown",
      "metadata": {
        "id": "m0NelHGWrBYm"
      },
      "source": [
        "# Introducción a python.\r\n",
        "-Creado en los 90´s por Guido Van R.\r\n",
        "-En el 2000 Python mejora y adquiere nuevas características\r\n",
        "-En el 2020 la versión 2.7 deja de ser la oficial y sólo se dará soporte del 3.0 en adelanre \r\n",
        "## Características de Python\r\n",
        "1. Lenguaje de propósito general (programar en cualquier área de la programación)\r\n",
        "2. Interpretado y no-compilado\r\n",
        "3. Tipos de datos dinámicos. (numéricos, cadena, bool, entre otros.)\r\n",
        "4. Multiplataforma.\r\n",
        "5. Lenguaje multi-paradigma. (Imperativa, POO y funcional)\r\n",
        "6. Código es estructurado por indentación.\r\n",
        "\r\n",
        "if a > 10:\r\n",
        "   print(\"Hola\")\r\n",
        "  print(\"Hola 2\")\r\n",
        "\r\n",
        "#Principios Zen de Python\r\n",
        "Son las características que guían el diseño de los lenguajes de programación Python.\r\n",
        "\r\n"
      ]
    },
    {
      "cell_type": "code",
      "metadata": {
        "colab": {
          "base_uri": "https://localhost:8080/"
        },
        "id": "KiEYvQRsvM0Y",
        "outputId": "e05056e3-9db9-44af-a15c-ea6dcd86b37d"
      },
      "source": [
        "#Primer progrma en Python 3.\r\n",
        "nombre= \"Jose\"\r\n",
        "edad=18\r\n",
        "print(\"Hola\", nombre , edad)"
      ],
      "execution_count": 1,
      "outputs": [
        {
          "output_type": "stream",
          "text": [
            "Hola Jose 18\n"
          ],
          "name": "stdout"
        }
      ]
    },
    {
      "cell_type": "markdown",
      "metadata": {
        "id": "aEjRdAW6vsKe"
      },
      "source": [
        "#La función print()\r\n",
        "Es una de las funciones más empleadas en programación y busca enviar datos a la salida estandar(monitor).\r\n",
        "\r\n",
        "###Formas de uso\r\n",
        "1. Con comas\r\n",
        "2. Con signos +\r\n",
        "3. .format()\r\n",
        "4. el operador f\"\r\n",
        "\r\n",
        "Con comas\r\n",
        "Concatena los argumentos enviados a print y les agega un espacio\r\n",
        "Con signos +\r\n",
        "Concatena los valores sin espacio y sin hacer conversión de datos\r\n",
        "\r\n",
        "###Con comas\r\n",
        "\r\n",
        "Concatena los argumentos enviados a print y les agrega un espacio.\r\n",
        "\r\n",
        "###Con signos +\r\n",
        "\r\n",
        "Concatena los valores sin espacio y sin hacer conversión de tipos.\r\n",
        "\r\n",
        "###Con .format()\r\n",
        "\r\n",
        "Permite darle formato a la salida de la impresión de variables. Emplea la función format del tipo de dato String.\r\n",
        "\r\n",
        "\"cadena {} a {} forma {}tear \".format(v1,v2,vn)\r\n",
        "\r\n",
        "Emplea como comodines para sustituir valores de los signos {}\r\n",
        "\r\n",
        "###Con el operador f\"\"\r\n",
        "Es una variante de la forma anterior pero enmascarando la función format()."
      ]
    },
    {
      "cell_type": "code",
      "metadata": {
        "colab": {
          "base_uri": "https://localhost:8080/"
        },
        "id": "vIPab0howt8q",
        "outputId": "fae01aa3-b976-4940-b18e-06832e3fcbe9"
      },
      "source": [
        "print(\"Hola\", nombre, edad)\r\n",
        "print(\"Hola \" + nombre + \" \" + str (edad) )\r\n",
        "\r\n",
        "#Nombre con una edad de: 18 años\r\n",
        "print(\"Nombre: \",nombre, \"con una edad de:\" ,edad, \"años\")\r\n",
        "print(\"Nombre: \" + nombre + \" con una edad de: \" + str (edad) + \" años\")\r\n",
        "\r\n",
        "#Con format()\r\n",
        "print(\"Nombre: {} con una edad de: {} años\".format(nombre,edad))\r\n",
        "\r\n",
        "#Con operador f\"\"\r\n",
        "print(f\"Nombre: {nombre} con una edad de: {edad} años\")\r\n"
      ],
      "execution_count": 11,
      "outputs": [
        {
          "output_type": "stream",
          "text": [
            "Hola Jose 18\n",
            "Hola Jose 18\n",
            "Nombre:  Jose con una edad de: 18 años\n",
            "Nombre: Jose con una edad de: 18 años\n",
            "Nombre: Jose con una edad de: 18 años\n",
            "Nombre: Jose con una edad de: 18 años\n"
          ],
          "name": "stdout"
        }
      ]
    },
    {
      "cell_type": "markdown",
      "metadata": {
        "id": "-Oxkp00V3Rob"
      },
      "source": [
        "#Funcion print() y los caracteres de escape.\r\n",
        "- \\n salto de línea\r\n",
        "- \\t tabulador\r\n",
        "- \\\\ imprimir \r\n",
        "-\\uxxxx\r\n",
        "-\\uxxxxxxxx\r\n"
      ]
    },
    {
      "cell_type": "code",
      "metadata": {
        "colab": {
          "base_uri": "https://localhost:8080/"
        },
        "id": "Cn98ZNLi3tqa",
        "outputId": "9774af41-ef4e-41cf-955b-7708c35e7644"
      },
      "source": [
        "print('\"')\r\n",
        "print(\"\\\"\")\r\n",
        "print(\"Nombre: Jose\\ncon una edad de: 18 años.\")\r\n",
        "print(\"Nombre: Jose\\n\\tcon una edad de: 18 años.\")\r\n",
        "\r\n",
        "#Caracteres unicode \r\n",
        "print(\"Hola \\u2661\")\r\n",
        "print(\"Hola \\u553F\")\r\n"
      ],
      "execution_count": 15,
      "outputs": [
        {
          "output_type": "stream",
          "text": [
            "\"\n",
            "\"\n",
            "Nombre: Jose\n",
            "con una edad de: 18 años.\n",
            "Nombre: Jose\n",
            "\tcon una edad de: 18 años.\n",
            "Hola ♡\n",
            "Hola 唿\n"
          ],
          "name": "stdout"
        }
      ]
    },
    {
      "cell_type": "markdown",
      "metadata": {
        "id": "5o92Fm_e9Vgq"
      },
      "source": [
        "#Print y salto de la línea de argumento\r\n",
        "print([lista de variables], end=\"\\n\")"
      ]
    },
    {
      "cell_type": "code",
      "metadata": {
        "colab": {
          "base_uri": "https://localhost:8080/"
        },
        "id": "-6f2syyL9sSZ",
        "outputId": "1fec87a1-0008-4f36-ea0a-ab0df731023e"
      },
      "source": [
        "print(\"Hola\" , end=\"\\u13CD\")\r\n",
        "print(\"Mundo\" , end=\"++++\")\r\n",
        "print(\"Fin\" , end=\"\\n\")"
      ],
      "execution_count": 16,
      "outputs": [
        {
          "output_type": "stream",
          "text": [
            "HolaᏍMundoFin\n"
          ],
          "name": "stdout"
        }
      ]
    },
    {
      "cell_type": "markdown",
      "metadata": {
        "id": "3lPuyiyuAqyM"
      },
      "source": [
        "#Comentarios en Python\r\n",
        "Un comentario en programación, es un texto especial que es ignorado por el interprete o compilador (Según se el caso) y es empleado para que el programador documente sus algoritmos.\r\n",
        "\r\n",
        "Existen de dos tipos: De línea simple y de múltiple línea.\r\n",
        "\r\n",
        "En Python.\r\n",
        "- línea simple emplea #\r\n",
        "\r\n",
        "#Comentario simple\r\n",
        "\r\n",
        "- línea multiple \r\n",
        "\r\n",
        "\"\"\"\r\n",
        "esto \r\n",
        "es un comentario de\r\n",
        "línea \r\n",
        "múltiple\r\n",
        "\"\"\""
      ]
    },
    {
      "cell_type": "code",
      "metadata": {
        "colab": {
          "base_uri": "https://localhost:8080/"
        },
        "id": "y0BOUOQXBsYv",
        "outputId": "6e5c3dd2-1746-4f0c-fa3a-879d43a0b1f3"
      },
      "source": [
        "print(\"Hola\")\r\n",
        "#print(\"Hola\")\r\n",
        "#cualquier cosa\r\n",
        "print(\"Hola\")\r\n",
        "print(\"Hola\") #Esta línea imprime hola\r\n",
        "print(\"Hola\")\r\n",
        "print(\"Hola\")\r\n",
        "\"\"\"\r\n",
        "esto es \r\n",
        "un comentario de múltiple línea. Ideal\r\n",
        "para cuando se desea explicar algo a fondo que requiera mayor detalle.\r\n",
        "\r\n",
        "\"\"\"\r\n",
        "print(\"Hola\")\r\n",
        "print(\"Hola\")"
      ],
      "execution_count": 17,
      "outputs": [
        {
          "output_type": "stream",
          "text": [
            "Hola\n",
            "Hola\n",
            "Hola\n",
            "Hola\n",
            "Hola\n",
            "Hola\n",
            "Hola\n"
          ],
          "name": "stdout"
        }
      ]
    }
  ]
}