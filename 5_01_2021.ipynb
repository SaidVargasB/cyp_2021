{
  "nbformat": 4,
  "nbformat_minor": 0,
  "metadata": {
    "colab": {
      "name": "5/01/2021",
      "provenance": [],
      "authorship_tag": "ABX9TyPI1yPmaxTzb7PspOoggiaY",
      "include_colab_link": true
    },
    "kernelspec": {
      "name": "python3",
      "display_name": "Python 3"
    }
  },
  "cells": [
    {
      "cell_type": "markdown",
      "metadata": {
        "id": "view-in-github",
        "colab_type": "text"
      },
      "source": [
        "<a href=\"https://colab.research.google.com/github/SaidVargasB/cyp_2021/blob/main/5_01_2021.ipynb\" target=\"_parent\"><img src=\"https://colab.research.google.com/assets/colab-badge.svg\" alt=\"Open In Colab\"/></a>"
      ]
    },
    {
      "cell_type": "code",
      "metadata": {
        "colab": {
          "base_uri": "https://localhost:8080/"
        },
        "id": "YdOmaY72jef4",
        "outputId": "159aef66-4cf2-43df-b8ff-4c20c565a77d"
      },
      "source": [
        "sueldos = [0.0 for x in range(7)]\r\n",
        "print(sueldos)\r\n",
        "sueldos[0]= 12.3\r\n",
        "sueldos[1]= 12.3\r\n",
        "sueldos[2]= 12.3\r\n",
        "sueldos[3]= 12.3\r\n",
        "sueldos[4]= 12.3\r\n",
        "sueldos[5]= 12.3\r\n",
        "sueldos[6]= 12.3\r\n",
        "print(sueldos)\r\n",
        "#Otra forma\r\n",
        "sueldo = [float(x) for x in range(7)]\r\n",
        "for i in range(0, 7):\r\n",
        "  sueldo[i] = float(i)+1.0\r\n",
        "\r\n",
        "print(sueldo)\r\n",
        "\r\n",
        "#Automatizar\r\n",
        "for i in range(7):\r\n",
        "  print(f\"El trabajador gana {int(i) +1} gana ${sueldo[i]}\")"
      ],
      "execution_count": 10,
      "outputs": [
        {
          "output_type": "stream",
          "text": [
            "[0.0, 0.0, 0.0, 0.0, 0.0, 0.0, 0.0]\n",
            "[12.3, 12.3, 12.3, 12.3, 12.3, 12.3, 12.3]\n",
            "[1.0, 2.0, 3.0, 4.0, 5.0, 6.0, 7.0]\n",
            "El trabajador gana 1 gana $1.0\n",
            "El trabajador gana 2 gana $2.0\n",
            "El trabajador gana 3 gana $3.0\n",
            "El trabajador gana 4 gana $4.0\n",
            "El trabajador gana 5 gana $5.0\n",
            "El trabajador gana 6 gana $6.0\n",
            "El trabajador gana 7 gana $7.0\n"
          ],
          "name": "stdout"
        }
      ]
    },
    {
      "cell_type": "code",
      "metadata": {
        "colab": {
          "base_uri": "https://localhost:8080/"
        },
        "id": "xZ6CrQZSpw6x",
        "outputId": "273493d8-165b-46f8-beed-3957d5cd3d18"
      },
      "source": [
        "#Problema 4.1\r\n",
        "MAXIMO=7\r\n",
        "suma=0\r\n",
        "prom=0\r\n",
        "sueldos= [0.0 for x in range(MAXIMO)]\r\n",
        "for i in range(MAXIMO):\r\n",
        "  sueldos[i]= float(input(\"Dame el sueldo:\"))\r\n",
        "for i in range(MAXIMO):\r\n",
        "  print(f\"Trabajador {i+1}, gana: {sueldos[i]}\")\r\n",
        "for i in range(MAXIMO):\r\n",
        "  suma=suma+sueldos[i]\r\n",
        "\r\n",
        "promedio= suma/ MAXIMO\r\n",
        "print(f\"El promedio de sueeldo es: ${promedio}\")\r\n",
        "\r\n",
        "for i in range(MAXIMO):\r\n",
        "  if sueldos[i]>promedio:\r\n",
        "    print(f\"El trabajador {i+1} tiene un sueldo mayor al promedio\")"
      ],
      "execution_count": 18,
      "outputs": [
        {
          "output_type": "stream",
          "text": [
            "Dame el sueldo:4\n",
            "Dame el sueldo:5\n",
            "Dame el sueldo:4\n",
            "Dame el sueldo:5\n",
            "Dame el sueldo:4\n",
            "Dame el sueldo:5\n",
            "Dame el sueldo:4\n",
            "Trabajador 1, gana: 4.0\n",
            "Trabajador 2, gana: 5.0\n",
            "Trabajador 3, gana: 4.0\n",
            "Trabajador 4, gana: 5.0\n",
            "Trabajador 5, gana: 4.0\n",
            "Trabajador 6, gana: 5.0\n",
            "Trabajador 7, gana: 4.0\n",
            "El promedio de sueeldo es: $4.428571428571429\n",
            "El trabajador 2 tiene un sueldo mayor al promedio\n",
            "El trabajador 4 tiene un sueldo mayor al promedio\n",
            "El trabajador 6 tiene un sueldo mayor al promedio\n"
          ],
          "name": "stdout"
        }
      ]
    },
    {
      "cell_type": "code",
      "metadata": {
        "colab": {
          "base_uri": "https://localhost:8080/"
        },
        "id": "2gwTL749svRW",
        "outputId": "1843bdf6-1d7c-4884-c444-7e01432c520f"
      },
      "source": [
        "Max = 5\r\n",
        "valor =  [0.0 for x in range(Max)]\r\n",
        "sum = 0.0\r\n",
        "prom = 0.0\r\n",
        "M = 0\r\n",
        "m = 100000000\r\n",
        "\r\n",
        "for i in range(Max):\r\n",
        "  valor[i] = int(input(\"Dame un valor entero positivo: \"))\r\n",
        "  if valor[i] > M:\r\n",
        "    M = valor[i]\r\n",
        "  elif valor[i] < m:\r\n",
        "    m = valor[i]\r\n",
        "\r\n",
        "for i in range(Max):\r\n",
        "  sum = sum + valor[i]\r\n",
        "\r\n",
        "prom = sum / Max\r\n",
        "\r\n",
        "print(f\"El numero mayor es: {M}\")\r\n",
        "print(f\"El numero menor es: {m}\")\r\n",
        "print(f\"El promedio es: {prom}\")"
      ],
      "execution_count": 22,
      "outputs": [
        {
          "output_type": "stream",
          "text": [
            "Dame un valor entero positivo: 5\n",
            "Dame un valor entero positivo: 7\n",
            "Dame un valor entero positivo: 4\n",
            "Dame un valor entero positivo: 8\n",
            "Dame un valor entero positivo: 2\n",
            "El numero mayor es: 8\n",
            "El numero menor es: 2\n",
            "El promedio es: 5.2\n"
          ],
          "name": "stdout"
        }
      ]
    },
    {
      "cell_type": "code",
      "metadata": {
        "id": "M77cNWmDw6EH"
      },
      "source": [
        "N = int(input(\"Ingrese el numero de elementos del arreglo: \"))\r\n",
        "VEC = []\r\n",
        "if 1 <= N and N <=500:\r\n",
        "  VEC = [0 for x in range(N)]\r\n",
        "  for I in range(N):\r\n",
        "    VEC[I]=int(input(\"Ingrese valor\" + str(I+1) + \":\"))\r\n",
        "  print(\"Lista de numero sin repeticiones: \")\r\n",
        "\r\n",
        "  I =0\r\n",
        "  while I<N:\r\n",
        "    print(VEC[I])\r\n",
        "    REPET = VEC[I]\r\n",
        "    while I < N and REPET == VEC[I]:\r\n",
        "      I = I +1\r\n",
        "    I = I + 1\r\n",
        "else: \r\n",
        "  print(\"EL numero de elementos del arreglo es incorrecto\")"
      ],
      "execution_count": null,
      "outputs": []
    }
  ]
}