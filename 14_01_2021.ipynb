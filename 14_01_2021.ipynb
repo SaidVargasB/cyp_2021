{
  "nbformat": 4,
  "nbformat_minor": 0,
  "metadata": {
    "colab": {
      "name": "14/01/2021",
      "provenance": [],
      "authorship_tag": "ABX9TyOxGHV5YLAUy/ibxZA7+78N",
      "include_colab_link": true
    },
    "kernelspec": {
      "name": "python3",
      "display_name": "Python 3"
    }
  },
  "cells": [
    {
      "cell_type": "markdown",
      "metadata": {
        "id": "view-in-github",
        "colab_type": "text"
      },
      "source": [
        "<a href=\"https://colab.research.google.com/github/SaidVargasB/cyp_2021/blob/main/14_01_2021.ipynb\" target=\"_parent\"><img src=\"https://colab.research.google.com/assets/colab-badge.svg\" alt=\"Open In Colab\"/></a>"
      ]
    },
    {
      "cell_type": "markdown",
      "metadata": {
        "id": "QLArwSC65Wck"
      },
      "source": [
        "#Palabras reservadas de Python 3\r\n",
        "1. False\r\n",
        "1. None\r\n",
        "1. True\r\n",
        "1. and\r\n",
        "1. as\r\n",
        "1. assert\r\n",
        "1. break\r\n",
        "1. class\r\n",
        "1. continue\r\n",
        "1. def\r\n",
        "1. del\r\n",
        "1. elif\r\n",
        "1. else\r\n",
        "1. except\r\n",
        "1. finally\r\n",
        "1. for\r\n",
        "1. from\r\n",
        "1. global\r\n",
        "1. if\r\n",
        "1. import\r\n",
        "1. in\r\n",
        "1. is\r\n",
        "1. lambda\r\n",
        "1. nonlocal\r\n",
        "1. not\r\n",
        "1. or\r\n",
        "1. pass\r\n",
        "1. raise\r\n",
        "1. return\r\n",
        "1. try\r\n",
        "1. while\r\n",
        "1. with\r\n",
        "1. yield"
      ]
    },
    {
      "cell_type": "code",
      "metadata": {
        "colab": {
          "base_uri": "https://localhost:8080/"
        },
        "id": "CieIvyf85bRy",
        "outputId": "34aa8d54-d96b-480c-81a5-fe64029f8952"
      },
      "source": [
        "import keyword\r\n",
        "pr=keyword.kwlist\r\n",
        "print( len(pr))\r\n",
        "for palabra in pr:\r\n",
        "  print(\"1.\", palabra)"
      ],
      "execution_count": 4,
      "outputs": [
        {
          "output_type": "stream",
          "text": [
            "33\n",
            "1. False\n",
            "1. None\n",
            "1. True\n",
            "1. and\n",
            "1. as\n",
            "1. assert\n",
            "1. break\n",
            "1. class\n",
            "1. continue\n",
            "1. def\n",
            "1. del\n",
            "1. elif\n",
            "1. else\n",
            "1. except\n",
            "1. finally\n",
            "1. for\n",
            "1. from\n",
            "1. global\n",
            "1. if\n",
            "1. import\n",
            "1. in\n",
            "1. is\n",
            "1. lambda\n",
            "1. nonlocal\n",
            "1. not\n",
            "1. or\n",
            "1. pass\n",
            "1. raise\n",
            "1. return\n",
            "1. try\n",
            "1. while\n",
            "1. with\n",
            "1. yield\n"
          ],
          "name": "stdout"
        }
      ]
    },
    {
      "cell_type": "markdown",
      "metadata": {
        "id": "yWUsxnNy65z1"
      },
      "source": [
        "##Variable\r\n",
        "Es un espacio de memoria de la computadora para almacenar valores que cambian a lo largo de la ejecución del programa. Este espacio de memoria esta referenciado por un identificador, el cual tienen ciertas reglas de nombrado.\r\n",
        "- No puede iniciar con número\r\n",
        "- No debe de ser igual a una de las palabras reservadas\r\n",
        "- Puede iniciar con _\r\n",
        "- Evitar nombres de variables largos\r\n",
        "- Evitar muy cortos, ejemplo : x,y,i\r\n",
        "- Usar connotación snake_case\r\n"
      ]
    },
    {
      "cell_type": "code",
      "metadata": {
        "colab": {
          "base_uri": "https://localhost:8080/",
          "height": 54
        },
        "id": "rF37yy_G8Byq",
        "outputId": "7db0cfaf-f579-4613-aade-e8eb8a79066c"
      },
      "source": [
        "_Zedad=12\r\n",
        "print(_Zedad)\r\n",
        "\"\"\"\r\n",
        "No se puede usar una plabra reservada como identificador de variable\r\n",
        "\r\n",
        "for=12\r\n",
        "print(for)\r\n",
        "\"\"\""
      ],
      "execution_count": 5,
      "outputs": [
        {
          "output_type": "stream",
          "text": [
            "12\n"
          ],
          "name": "stdout"
        },
        {
          "output_type": "execute_result",
          "data": {
            "application/vnd.google.colaboratory.intrinsic+json": {
              "type": "string"
            },
            "text/plain": [
              "'\\nNo se puede usar una plabra reservada como identificador de variable\\n\\nfor=12\\nprint(for)\\n'"
            ]
          },
          "metadata": {
            "tags": []
          },
          "execution_count": 5
        }
      ]
    },
    {
      "cell_type": "code",
      "metadata": {
        "id": "y8yv8Gdk8mHB"
      },
      "source": [
        "\"\"\"\r\n",
        "La notación snake_case consta de formar el identificador de variable\r\n",
        "separando las palabras del mismo con un guión bajo.\r\n",
        "\r\n",
        "Se recomienda que los identificadores se escriban en minúscula para las variables\r\n",
        "y en mayúsculas para las constantes.\r\n",
        "\r\n",
        "Es decir si tenemos una variable de para los días de la semana, se escribiría así:\r\n",
        "\r\n",
        "dias_de_la_semana=7\r\n",
        "dias_mes=31\r\n",
        "limite_maximo=100\r\n",
        "\"\"\"\r\n",
        "_2edad\r\n",
        "dias_de_la_semana=7\r\n",
        "print(dias_de_la_semana)\r\n",
        "\r\n",
        "diasdelasemana=7\r\n",
        "print(diasdelasemana)\r\n",
        "\r\n",
        "#Lower camel case\r\n",
        "deasDeLaSemana=7\r\n",
        "\r\n",
        "#Upper camel case\r\n",
        "SemanaSanta=23"
      ],
      "execution_count": null,
      "outputs": []
    },
    {
      "cell_type": "markdown",
      "metadata": {
        "id": "TV_xpYNY977_"
      },
      "source": [
        "#Tipos de datos\r\n",
        "- Numéricos\r\n",
        "    - int 4 bytes ( 1, 2, 2345 , etc. )\r\n",
        "    - float 4 bytes (1.14, 3.1416, 1.0)\r\n",
        "    - long 8 bytes(1, 2, 23454, etc.)\r\n",
        "    - complex 3 +2j (Raíces negativas)\r\n",
        "\r\n",
        "- Boleano: True o False\r\n",
        "- String cadena de carácteres (\"cad\", 'cad', \"\"\"cad\"\"\")\r\n",
        "- Listas ([1,2,3,4,5], [a,b,c,d,e])\r\n",
        "- Tuplas (   (edad,23) , (3,4) )   )\r\n",
        "- Conjuntos\r\n",
        "- Diccionarios ({\"nombre\":\"Juan\"})\r\n",
        " \r\n"
      ]
    },
    {
      "cell_type": "markdown",
      "metadata": {
        "id": "QeEPDOwlEQEP"
      },
      "source": [
        "#Tipos de String\r\n",
        "Este tipo de datos permite almacenar cadenas de caracteres, como por ejemplo:\r\n",
        "```\r\n",
        "nombre= \"Jesús\"\r\n",
        "lugar_nacimiento= \"México D.F., Tacuba\"\r\n",
        "frase_favorita=\"\"\"\r\n",
        "El conocimiento\r\n",
        "me persigue,\r\n",
        "pero...\r\n",
        "yo soy más rápido!!!\r\n",
        ":)\r\n",
        "\"\"\"\"\r\n",
        "\r\n",
        "```"
      ]
    },
    {
      "cell_type": "code",
      "metadata": {
        "colab": {
          "base_uri": "https://localhost:8080/"
        },
        "id": "wGAUOUqqFkRi",
        "outputId": "78f04d09-3766-4552-cc05-b4181ac86898"
      },
      "source": [
        "nombre = 'Jesus'\r\n",
        "lugar_nacimiento = \"Mexico D.F., Tacuba\"\r\n",
        "frase_favorita = \"\"\"\r\n",
        "El conocimiento \r\n",
        "me persigue,\r\n",
        "pero...\r\n",
        "yo soy mas rapido!!\r\n",
        ":)\r\n",
        "\"\"\"\r\n",
        "print(nombre)\r\n",
        "print(lugar_nacimiento)\r\n",
        "print(frase_favorita)"
      ],
      "execution_count": 15,
      "outputs": [
        {
          "output_type": "stream",
          "text": [
            "Jesus\n",
            "Mexico D.F., Tacuba\n",
            "\n",
            "El conocimiento \n",
            "me persigue,\n",
            "pero...\n",
            "yo soy mas rapido!!\n",
            ":)\n",
            "\n"
          ],
          "name": "stdout"
        }
      ]
    },
    {
      "cell_type": "markdown",
      "metadata": {
        "id": "mIPiahSpFlBi"
      },
      "source": [
        "#Strings como arreglo\r\n",
        "Un string en Python es almacenado como el tipo de dato (estructura de datos) arreglo.\r\n",
        "\r\n",
        "por ejemplo la declaración:\r\n",
        "```\r\n",
        "\r\n",
        "nombre= 'Jesús'\r\n",
        "```\r\n",
        "\r\n",
        "El elemto 'J' es almacenado en un arreglo de posición 0. \r\n",
        "\r\n",
        "La 'e' en la 1 y así sucesivamente.\r\n",
        "\r\n",
        "###Selector\r\n",
        "La notación para seleccionar un elemento del arreglo es:\r\n",
        "```\r\n",
        "[ 1 ]\r\n",
        "```\r\n",
        "\r\n",
        "Donde el valor interno debe ser un valor numérico entero."
      ]
    },
    {
      "cell_type": "code",
      "metadata": {
        "colab": {
          "base_uri": "https://localhost:8080/"
        },
        "id": "3MJrQbuBGQ3T",
        "outputId": "5881cac7-00c2-40ee-bd6a-fbd1dc01fc7e"
      },
      "source": [
        "nombre= 'Jesús'\r\n",
        "print(nombre)\r\n",
        "print(nombre[0])\r\n",
        "print(nombre[3])"
      ],
      "execution_count": 8,
      "outputs": [
        {
          "output_type": "stream",
          "text": [
            "Jesús\n",
            "J\n",
            "ú\n"
          ],
          "name": "stdout"
        }
      ]
    },
    {
      "cell_type": "markdown",
      "metadata": {
        "id": "knjYrj3yHzor"
      },
      "source": [
        "#Iterar sobre un String\r\n",
        "Se puede iterar sobre un String con un for de la forma:\r\n",
        "```\r\n",
        "for letra in range( len(nombre)):\r\n",
        "  print( letra) \r\n",
        "```"
      ]
    },
    {
      "cell_type": "code",
      "metadata": {
        "colab": {
          "base_uri": "https://localhost:8080/"
        },
        "id": "WOoI8CyrIXm6",
        "outputId": "3de358e9-2691-4646-f4f7-e8a1d9b7d229"
      },
      "source": [
        "for indice in range( len(nombre)): #0, 1, 2, 3, 4\r\n",
        "  print( indice, end= \" \")\r\n",
        "  print( nombre[indice]) "
      ],
      "execution_count": 14,
      "outputs": [
        {
          "output_type": "stream",
          "text": [
            "0 J\n",
            "1 e\n",
            "2 s\n",
            "3 ú\n",
            "4 s\n"
          ],
          "name": "stdout"
        }
      ]
    },
    {
      "cell_type": "markdown",
      "metadata": {
        "id": "V6wo2RNKKMnR"
      },
      "source": [
        "#Función range (inicio, stop, incremento)\r\n",
        "El inicio es opcional y por defecto tiene valor de 0\r\n",
        "El incremento también es opcional y por defecto es 1"
      ]
    },
    {
      "cell_type": "code",
      "metadata": {
        "colab": {
          "base_uri": "https://localhost:8080/"
        },
        "id": "KZdGSCW8Kczg",
        "outputId": "e9e73de8-b1d7-46e4-8ecb-c1a8d86f9eb2"
      },
      "source": [
        "for indice in range(1, len(nombre), 1 ):\r\n",
        "  print(nombre[indice])"
      ],
      "execution_count": 17,
      "outputs": [
        {
          "output_type": "stream",
          "text": [
            "e\n",
            "s\n",
            "u\n",
            "s\n"
          ],
          "name": "stdout"
        }
      ]
    },
    {
      "cell_type": "code",
      "metadata": {
        "colab": {
          "base_uri": "https://localhost:8080/"
        },
        "id": "L4NWkSdzLpJY",
        "outputId": "88130fa6-a4ab-41d3-e7df-519b7c67d2a8"
      },
      "source": [
        "for indice in range( 4, -1, -1 ): #4, 3, 2, 1, 0\r\n",
        "    print(nombre[indice])\r\n"
      ],
      "execution_count": 19,
      "outputs": [
        {
          "output_type": "stream",
          "text": [
            "s\n",
            "u\n",
            "s\n",
            "e\n",
            "J\n"
          ],
          "name": "stdout"
        }
      ]
    },
    {
      "cell_type": "markdown",
      "metadata": {
        "id": "B5TLYyAqL-P-"
      },
      "source": [
        "#Strings e indexado negativo\r\n",
        "En python 3 se agrega una nueva característica a los arreglos de las cadenas de caracteres, esta consta de la capacidad de inexar de forma negativa.\r\n",
        "\r\n",
        "La lógica es la siguiente.\r\n",
        "\r\n",
        "El último elemento se le considera como índice (ALTERNATIVO) -1, con lo cual se podría referenciar el final de la cadena sin la necesidad de saber el tamaño de la misma.\r\n",
        "```\r\n",
        "nombre='Said'\r\n",
        "\r\n",
        "Índice normal        0  1  2  3 \r\n",
        "                     S  a  i  d\r\n",
        "Índice alternativo. -4 -3 -2 -1\r\n",
        "```"
      ]
    },
    {
      "cell_type": "code",
      "metadata": {
        "colab": {
          "base_uri": "https://localhost:8080/"
        },
        "id": "h9HrVKDwMp4c",
        "outputId": "105b9f21-99d4-43cd-d3dd-4d591f25093d"
      },
      "source": [
        "nombre= \"Said\"\r\n",
        "print( nombre[3] )\r\n",
        "print( nombre[-1] )\r\n",
        "print(\"\")\r\n",
        "for indice_alter in range(-1 , -5, -1):\r\n",
        "  print( nombre[indice_alter] )"
      ],
      "execution_count": 25,
      "outputs": [
        {
          "output_type": "stream",
          "text": [
            "d\n",
            "d\n",
            "\n",
            "d\n",
            "i\n",
            "a\n",
            "S\n"
          ],
          "name": "stdout"
        }
      ]
    },
    {
      "cell_type": "markdown",
      "metadata": {
        "id": "Ku7Osy0IQClA"
      },
      "source": [
        "#Slicing de cadenas de caracteres.\r\n",
        "Esta característica permite sacar secciones de una cadena con la siguiente sintaxis:\r\n",
        "```\r\n",
        "[ inicio : stop : incremento ]\r\n",
        "```\r\n",
        "Donde inicio e incremetnto son opcionales y también soportan indexado alternativo (negativos)"
      ]
    },
    {
      "cell_type": "code",
      "metadata": {
        "colab": {
          "base_uri": "https://localhost:8080/"
        },
        "id": "4_tOlBHSQqfG",
        "outputId": "3a724707-16c5-423e-9f2c-94acd9725704"
      },
      "source": [
        "facultad=\"Facultad de Estudios Superiores Aragón (La mejor)\"\r\n",
        "print(facultad)\r\n",
        "for indice in range( 12, 20, 1):\r\n",
        "  print(facultad[indice], end=\"\")\r\n",
        "#Hacer esto mismo con la caraterística Slicing se logra así:\r\n",
        "print(\"\\nCon Slicing\")\r\n",
        "print(facultad[12:20:1])\r\n",
        "#La palabra 'de' con slicing\r\n",
        "print(facultad[9:11:1])\r\n"
      ],
      "execution_count": 28,
      "outputs": [
        {
          "output_type": "stream",
          "text": [
            "Facultad de Estudios Superiores Aragón (La mejor)\n",
            "Estudios\n",
            "Con Slicing\n",
            "Estudios\n",
            "de\n"
          ],
          "name": "stdout"
        }
      ]
    }
  ]
}