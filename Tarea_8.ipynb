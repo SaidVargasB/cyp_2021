{
  "nbformat": 4,
  "nbformat_minor": 0,
  "metadata": {
    "colab": {
      "name": "Tarea 8",
      "provenance": [],
      "authorship_tag": "ABX9TyO+hxH2twyvUODhiEGs8Map",
      "include_colab_link": true
    },
    "kernelspec": {
      "name": "python3",
      "display_name": "Python 3"
    }
  },
  "cells": [
    {
      "cell_type": "markdown",
      "metadata": {
        "id": "view-in-github",
        "colab_type": "text"
      },
      "source": [
        "<a href=\"https://colab.research.google.com/github/SaidVargasB/cyp_2021/blob/main/Tarea_8.ipynb\" target=\"_parent\"><img src=\"https://colab.research.google.com/assets/colab-badge.svg\" alt=\"Open In Colab\"/></a>"
      ]
    },
    {
      "cell_type": "code",
      "metadata": {
        "colab": {
          "base_uri": "https://localhost:8080/"
        },
        "id": "YWVinKtHFsOl",
        "outputId": "2a3f91ae-d13f-4ffc-eafa-b050e7b627f6"
      },
      "source": [
        "# Use como temática para las letras el alfabeto árabe ya que de ahí proviene mi nombre.\r\n",
        "# Marco (Superior)\r\n",
        "print(\"\",\" \\u25B7\"*40) \r\n",
        "     #M           #S                        #A                        #I                       #D                             #MD\r\n",
        "print(\"\\n\\u25BC\", \"\\t\\u0633 \", \"\\u0633 \"*6, \"\\t\\uFE8E\", \"  \\uFE8E\"*6, \"\\t\\u064A\", \" \\u064A\"*7, \"\\t\\u062F\", \"   \\u062F\"*3, end=\"\\t\\t\\u25B2\") #Primera línea \r\n",
        "     #M           #S          #A                            #I            #D                              #MD\r\n",
        "print(\"\\n\\u25BC\", \"\\t\\u0633\", \"\\t\\t\\t\\uFE8E\", \"\\t\\t\\uFE8E\", \"\\t\\t\\u064A\", \"\\t\\t\\u062F\", \"\\t\\t\\u062F\", end=\"\\t\\u25B2\")\r\n",
        "     #M           #S          #A                            #I            #D                              #MD\r\n",
        "print(\"\\n\\u25BC\", \"\\t\\u0633\", \"\\t\\t\\t\\uFE8E\", \"\\t\\t\\uFE8E\", \"\\t\\t\\u064A\", \"\\t\\t\\u062F\", \"\\t\\t\\u062F\", end=\"\\t\\u25B2\")\r\n",
        "     #M           #S          #A                            #I            #D                              #MD\r\n",
        "print(\"\\n\\u25BC\", \"\\t\\u0633\", \"\\t\\t\\t\\uFE8E\", \"\\t\\t\\uFE8E\", \"\\t\\t\\u064A\", \"\\t\\t\\u062F\", \"\\t\\t\\u062F\", end=\"\\t\\u25B2\")\r\n",
        "     #M           #S          #A                            #I            #D                              #MD\r\n",
        "print(\"\\n\\u25BC\", \"\\t\\u0633\", \"\\t\\t\\t\\uFE8E\", \"\\t\\t\\uFE8E\", \"\\t\\t\\u064A\", \"\\t\\t\\u062F\", \"\\t\\t\\u062F\", end=\"\\t\\u25B2\")\r\n",
        "     #M           #S          #A                            #I            #D                              #MD\r\n",
        "print(\"\\n\\u25BC\", \"\\t\\u0633\", \"\\t\\t\\t\\uFE8E\", \"\\t\\t\\uFE8E\", \"\\t\\t\\u064A\", \"\\t\\t\\u062F\", \"\\t\\t\\u062F\", end=\"\\t\\u25B2\")\r\n",
        "     #M           #S          #A                            #I            #D                                                 #MD\r\n",
        "print(\"\\n\\u25BC\", \"\\t\\u0633\", \" \\u0633\"*6, \"\\t\\uFE8E\", \" \\uFE8E\"*10, \"\\uFE8E\", \"\\t\\t\\u064A\", \"\\t\\t\\u062F\", \"\\t\\t\\u062F\", end=\"\\t\\u25B2\")\r\n",
        "     #M           #S              #A                        #I            #D                              #MD\r\n",
        "print(\"\\n\\u25BC\", \"\\t\\t\\t\\u0633\", \"\\t\\uFE8E\", \"\\t\\t\\uFE8E\", \"\\t\\t\\u064A\", \"\\t\\t\\u062F\", \"\\t\\t\\u062F\", end=\"\\t\\u25B2\")\r\n",
        "     #M           #S              #A                        #I            #D                              #MD\r\n",
        "print(\"\\n\\u25BC\", \"\\t\\t\\t\\u0633\", \"\\t\\uFE8E\", \"\\t\\t\\uFE8E\", \"\\t\\t\\u064A\", \"\\t\\t\\u062F\", \"\\t\\t\\u062F\", end=\"\\t\\u25B2\")\r\n",
        "     #M           #S              #A                        #I            #D                              #MD\r\n",
        "print(\"\\n\\u25BC\", \"\\t\\t\\t\\u0633\", \"\\t\\uFE8E\", \"\\t\\t\\uFE8E\", \"\\t\\t\\u064A\", \"\\t\\t\\u062F\", \"\\t\\t\\u062F\", end=\"\\t\\u25B2\")\r\n",
        "     #M           #S              #A                        #I            #D                              #MD\r\n",
        "print(\"\\n\\u25BC\", \"\\t\\t\\t\\u0633\", \"\\t\\uFE8E\", \"\\t\\t\\uFE8E\", \"\\t\\t\\u064A\", \"\\t\\t\\u062F\", \"\\t\\t\\u062F\", end=\"\\t\\u25B2\")\r\n",
        "     #M           #S              #A                        #I            #D                              #MD\r\n",
        "print(\"\\n\\u25BC\", \"\\t\\t\\t\\u0633\", \"\\t\\uFE8E\", \"\\t\\t\\uFE8E\", \"\\t\\t\\u064A\", \"\\t\\t\\u062F\", \"\\t\\t\\u062F\", end=\"\\t\\u25B2\")\r\n",
        "     #M           #S              #A                        #I            #D                              #MD\r\n",
        "print(\"\\n\\u25BC\", \"\\t\\t\\t\\u0633\", \"\\t\\uFE8E\", \"\\t\\t\\uFE8E\", \"\\t\\t\\u064A\", \"\\t\\t\\u062F\", \"\\t\\t\\u062F\", end=\"\\t\\u25B2\")\r\n",
        "     #M           #S                        #A                        #I                       #D                             #MD\r\n",
        "print(\"\\n\\u25BC\", \"\\t\\u0633 \", \"\\u0633 \"*6, \"\\t\\uFE8E\", \"\\t\\t\\uFE8E\", \"\\t\\u064A\", \" \\u064A\"*7, \"\\t\\u062F\", \"   \\u062F\"*3, end=\"\\t\\t\\u25B2\")\r\n",
        "#Marco Inferior\r\n",
        "print(\"\\n\\n \",\" \\u25B7\"*40)\r\n"
      ],
      "execution_count": 289,
      "outputs": [
        {
          "output_type": "stream",
          "text": [
            "  ▷ ▷ ▷ ▷ ▷ ▷ ▷ ▷ ▷ ▷ ▷ ▷ ▷ ▷ ▷ ▷ ▷ ▷ ▷ ▷ ▷ ▷ ▷ ▷ ▷ ▷ ▷ ▷ ▷ ▷ ▷ ▷ ▷ ▷ ▷ ▷ ▷ ▷ ▷ ▷\n",
            "\n",
            "▼ \tس  س س س س س س  \tﺎ   ﺎ  ﺎ  ﺎ  ﺎ  ﺎ  ﺎ \tي  ي ي ي ي ي ي ي \tد    د   د   د\t\t▲\n",
            "▼ \tس \t\t\tﺎ \t\tﺎ \t\tي \t\tد \t\tد\t▲\n",
            "▼ \tس \t\t\tﺎ \t\tﺎ \t\tي \t\tد \t\tد\t▲\n",
            "▼ \tس \t\t\tﺎ \t\tﺎ \t\tي \t\tد \t\tد\t▲\n",
            "▼ \tس \t\t\tﺎ \t\tﺎ \t\tي \t\tد \t\tد\t▲\n",
            "▼ \tس \t\t\tﺎ \t\tﺎ \t\tي \t\tد \t\tد\t▲\n",
            "▼ \tس  س س س س س س \tﺎ  ﺎ ﺎ ﺎ ﺎ ﺎ ﺎ ﺎ ﺎ ﺎ ﺎ ﺎ \t\tي \t\tد \t\tد\t▲\n",
            "▼ \t\t\tس \tﺎ \t\tﺎ \t\tي \t\tد \t\tد\t▲\n",
            "▼ \t\t\tس \tﺎ \t\tﺎ \t\tي \t\tد \t\tد\t▲\n",
            "▼ \t\t\tس \tﺎ \t\tﺎ \t\tي \t\tد \t\tد\t▲\n",
            "▼ \t\t\tس \tﺎ \t\tﺎ \t\tي \t\tد \t\tد\t▲\n",
            "▼ \t\t\tس \tﺎ \t\tﺎ \t\tي \t\tد \t\tد\t▲\n",
            "▼ \t\t\tس \tﺎ \t\tﺎ \t\tي \t\tد \t\tد\t▲\n",
            "▼ \tس  س س س س س س  \tﺎ \t\tﺎ \tي  ي ي ي ي ي ي ي \tد    د   د   د\t\t▲\n",
            "\n",
            "   ▷ ▷ ▷ ▷ ▷ ▷ ▷ ▷ ▷ ▷ ▷ ▷ ▷ ▷ ▷ ▷ ▷ ▷ ▷ ▷ ▷ ▷ ▷ ▷ ▷ ▷ ▷ ▷ ▷ ▷ ▷ ▷ ▷ ▷ ▷ ▷ ▷ ▷ ▷ ▷\n"
          ],
          "name": "stdout"
        }
      ]
    }
  ]
}