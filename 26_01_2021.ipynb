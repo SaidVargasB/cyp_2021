{
  "nbformat": 4,
  "nbformat_minor": 0,
  "metadata": {
    "colab": {
      "name": "26/01/2021",
      "provenance": [],
      "authorship_tag": "ABX9TyNcE60UGdXv+ViIPKnDFzo/",
      "include_colab_link": true
    },
    "kernelspec": {
      "name": "python3",
      "display_name": "Python 3"
    }
  },
  "cells": [
    {
      "cell_type": "markdown",
      "metadata": {
        "id": "view-in-github",
        "colab_type": "text"
      },
      "source": [
        "<a href=\"https://colab.research.google.com/github/SaidVargasB/cyp_2021/blob/main/26_01_2021.ipynb\" target=\"_parent\"><img src=\"https://colab.research.google.com/assets/colab-badge.svg\" alt=\"Open In Colab\"/></a>"
      ]
    },
    {
      "cell_type": "markdown",
      "metadata": {
        "id": "C0nq8hditCV9"
      },
      "source": [
        "#Listas de Python 3\r\n",
        "1. Es una estructura de datos lineal de 0 o n elementos.\r\n",
        "1. \"Equivalente\" a los arreglos.\r\n",
        "1. Pueden ser de diferente tipo de dato.[1,2,32,12] , [1, True, 2.34, \"Hola\"]\r\n",
        "1. Pueden ser aninados, listas de listas. [\"Melón\",\"Manzana roja\", \"Manzana amarilla\"]\r\n",
        "1. Su selector es de la forma: [ int ]\r\n",
        "1. Son mutables."
      ]
    },
    {
      "cell_type": "code",
      "metadata": {
        "colab": {
          "base_uri": "https://localhost:8080/"
        },
        "id": "Up2R7BJdu6VP",
        "outputId": "53fdc32f-2090-4113-c57e-d639fece0d01"
      },
      "source": [
        "# Ejemplos\r\n",
        "numeros = [4,2,45,7,83,3]\r\n",
        "print (numeros[2])\r\n",
        "\r\n",
        "# Una lista de 0 elemetos\r\n",
        "colores = [] # list()\r\n",
        "type(colores) # Averiguar que tipo de dato es una variable con la función type\r\n",
        "dias= list()\r\n",
        "print(dias)\r\n",
        "print(colores)"
      ],
      "execution_count": 4,
      "outputs": [
        {
          "output_type": "stream",
          "text": [
            "45\n",
            "[]\n",
            "[]\n"
          ],
          "name": "stdout"
        }
      ]
    },
    {
      "cell_type": "code",
      "metadata": {
        "colab": {
          "base_uri": "https://localhost:8080/"
        },
        "id": "Lq9eBiibwLAK",
        "outputId": "1a6e620c-7f85-4613-db2e-2dcf04bdfe7d"
      },
      "source": [
        "# Pueden de diferentes tipo de datos\r\n",
        "\r\n",
        "mi_lista = [1,2,3, \"José\", False, 1.76, [55667788,5678765,1234321]  ]\r\n",
        "print(mi_lista)\r\n",
        "print(mi_lista[5])\r\n",
        "print(mi_lista[6][2])\r\n",
        "print(mi_lista[3][3])      # Ejemplo 1\r\n",
        "print(mi_lista[3][-1])     # Ejemplo 2\r\n",
        "print(mi_lista[3][-1::1])  # Ejemplo 3\r\n",
        "mi_listas\r\n"
      ],
      "execution_count": 10,
      "outputs": [
        {
          "output_type": "stream",
          "text": [
            "[1, 2, 3, 'José', False, 1.76, [55667788, 5678765, 1234321]]\n",
            "1.76\n",
            "1234321\n",
            "é\n",
            "é\n",
            "é\n"
          ],
          "name": "stdout"
        }
      ]
    },
    {
      "cell_type": "code",
      "metadata": {
        "colab": {
          "base_uri": "https://localhost:8080/"
        },
        "id": "IExfmmsi0SkQ",
        "outputId": "9c89053a-c92d-4a2a-b434-fd3100959f10"
      },
      "source": [
        "frutas =[\"melon\",\"sandía\",\"kiwi\",\"aguacate\",\"mango\",\"platano\"]\r\n",
        "print(frutas)\r\n",
        "frutas[0] = \"Melón\"\r\n",
        "print(frutas)\r\n",
        "#frutas[1] = \"S\"\r\n",
        "#print(frutas)\r\n",
        "#frutas[1][0]= \"S\"\r\n",
        "frutas[1]=frutas[1].capitalize()\r\n",
        "print(frutas)\r\n",
        "#frutas[1] = frutas[1][0].upper() + frutas[1][1:]"
      ],
      "execution_count": 11,
      "outputs": [
        {
          "output_type": "stream",
          "text": [
            "['melon', 'sandía', 'kiwi', 'aguacate', 'mango', 'platano']\n",
            "['Melón', 'sandía', 'kiwi', 'aguacate', 'mango', 'platano']\n"
          ],
          "name": "stdout"
        }
      ]
    },
    {
      "cell_type": "code",
      "metadata": {
        "colab": {
          "base_uri": "https://localhost:8080/"
        },
        "id": "pqZKJRZr2I0A",
        "outputId": "d41981a6-bc67-48cd-bb9d-37c5adcb0194"
      },
      "source": [
        "# Las listas son clases por lo tanto, tienen métodos.\r\n",
        "# Ejemplos: Append, agrega un elemneto al final\r\n",
        "frutas.append(\"Fresa\")\r\n",
        "print(frutas)\r\n",
        "\r\n",
        "print(\"Ejemplo de copias\")\r\n",
        "otras_frutas = frutas.copy()\r\n",
        "print(frutas)\r\n",
        "print(otras_frutas)\r\n",
        "otras_frutas[0]=\"Chico zapote\"\r\n",
        "print(otras_frutas)\r\n",
        "print(frutas)\r\n",
        "print(\"----------\")\r\n",
        "\r\n",
        "print(\"Ejemplo de extend\")\r\n",
        "colores = [\"rojo\",\"verde\",\"azul\"]\r\n",
        "frutas.extend(colores)\r\n",
        "print(frutas)\r\n",
        "\r\n",
        "print(\"Ejempo insert\")\r\n",
        "print(f\"tamaño de la lista = { len(frutas) } \")\r\n",
        "frutas.insert(3,\"Limón\")\r\n",
        "print(f\"tamaño de la lista = { len(frutas) } \")\r\n",
        "print(frutas)\r\n",
        "\r\n",
        "print(\"Ejemplo de remove, eliminar el kiwi\")\r\n",
        "frutas.remove(\"kiwi\")\r\n",
        "print(frutas)\r\n",
        "\r\n",
        "print(\"Ejemplo con operador del\")\r\n",
        "del frutas[2] # Operador de listas\r\n",
        "print(frutas)\r\n",
        "\r\n",
        "frutas.clear()\r\n",
        "print(frutas)"
      ],
      "execution_count": 17,
      "outputs": [
        {
          "output_type": "stream",
          "text": [
            "['Chico zapote', 'sandía', 'kiwi', 'aguacate', 'mango', 'platano', 'Fresa', 'Fresa', 'Fresa']\n",
            "Ejemplo de copias\n",
            "['Chico zapote', 'sandía', 'kiwi', 'aguacate', 'mango', 'platano', 'Fresa', 'Fresa', 'Fresa']\n",
            "['Chico zapote', 'sandía', 'kiwi', 'aguacate', 'mango', 'platano', 'Fresa', 'Fresa', 'Fresa']\n",
            "['Chico zapote', 'sandía', 'kiwi', 'aguacate', 'mango', 'platano', 'Fresa', 'Fresa', 'Fresa']\n",
            "['Chico zapote', 'sandía', 'kiwi', 'aguacate', 'mango', 'platano', 'Fresa', 'Fresa', 'Fresa']\n",
            "----------\n",
            "Ejemplo de extend\n",
            "['Chico zapote', 'sandía', 'kiwi', 'aguacate', 'mango', 'platano', 'Fresa', 'Fresa', 'Fresa', 'rojo', 'verde', 'azul']\n",
            "Ejempo insert\n",
            "tamaño de la lista = 12 \n",
            "tamaño de la lista = 13 \n",
            "['Chico zapote', 'sandía', 'kiwi', 'Limón', 'aguacate', 'mango', 'platano', 'Fresa', 'Fresa', 'Fresa', 'rojo', 'verde', 'azul']\n",
            "Ejemplo de remove, eliminar el kiwi\n",
            "['Chico zapote', 'sandía', 'Limón', 'aguacate', 'mango', 'platano', 'Fresa', 'Fresa', 'Fresa', 'rojo', 'verde', 'azul']\n",
            "Ejemplo con operador del\n",
            "['Chico zapote', 'sandía', 'aguacate', 'mango', 'platano', 'Fresa', 'Fresa', 'Fresa', 'rojo', 'verde', 'azul']\n",
            "[]\n"
          ],
          "name": "stdout"
        }
      ]
    },
    {
      "cell_type": "code",
      "metadata": {
        "colab": {
          "base_uri": "https://localhost:8080/"
        },
        "id": "0UPbtLOw2wXH",
        "outputId": "8beb8df0-c622-45b5-f336-c4d5777ae548"
      },
      "source": [
        "help(frutas)\r\n"
      ],
      "execution_count": 16,
      "outputs": [
        {
          "output_type": "stream",
          "text": [
            "Help on list object:\n",
            "\n",
            "class list(object)\n",
            " |  list() -> new empty list\n",
            " |  list(iterable) -> new list initialized from iterable's items\n",
            " |  \n",
            " |  Methods defined here:\n",
            " |  \n",
            " |  __add__(self, value, /)\n",
            " |      Return self+value.\n",
            " |  \n",
            " |  __contains__(self, key, /)\n",
            " |      Return key in self.\n",
            " |  \n",
            " |  __delitem__(self, key, /)\n",
            " |      Delete self[key].\n",
            " |  \n",
            " |  __eq__(self, value, /)\n",
            " |      Return self==value.\n",
            " |  \n",
            " |  __ge__(self, value, /)\n",
            " |      Return self>=value.\n",
            " |  \n",
            " |  __getattribute__(self, name, /)\n",
            " |      Return getattr(self, name).\n",
            " |  \n",
            " |  __getitem__(...)\n",
            " |      x.__getitem__(y) <==> x[y]\n",
            " |  \n",
            " |  __gt__(self, value, /)\n",
            " |      Return self>value.\n",
            " |  \n",
            " |  __iadd__(self, value, /)\n",
            " |      Implement self+=value.\n",
            " |  \n",
            " |  __imul__(self, value, /)\n",
            " |      Implement self*=value.\n",
            " |  \n",
            " |  __init__(self, /, *args, **kwargs)\n",
            " |      Initialize self.  See help(type(self)) for accurate signature.\n",
            " |  \n",
            " |  __iter__(self, /)\n",
            " |      Implement iter(self).\n",
            " |  \n",
            " |  __le__(self, value, /)\n",
            " |      Return self<=value.\n",
            " |  \n",
            " |  __len__(self, /)\n",
            " |      Return len(self).\n",
            " |  \n",
            " |  __lt__(self, value, /)\n",
            " |      Return self<value.\n",
            " |  \n",
            " |  __mul__(self, value, /)\n",
            " |      Return self*value.\n",
            " |  \n",
            " |  __ne__(self, value, /)\n",
            " |      Return self!=value.\n",
            " |  \n",
            " |  __new__(*args, **kwargs) from builtins.type\n",
            " |      Create and return a new object.  See help(type) for accurate signature.\n",
            " |  \n",
            " |  __repr__(self, /)\n",
            " |      Return repr(self).\n",
            " |  \n",
            " |  __reversed__(...)\n",
            " |      L.__reversed__() -- return a reverse iterator over the list\n",
            " |  \n",
            " |  __rmul__(self, value, /)\n",
            " |      Return value*self.\n",
            " |  \n",
            " |  __setitem__(self, key, value, /)\n",
            " |      Set self[key] to value.\n",
            " |  \n",
            " |  __sizeof__(...)\n",
            " |      L.__sizeof__() -- size of L in memory, in bytes\n",
            " |  \n",
            " |  append(...)\n",
            " |      L.append(object) -> None -- append object to end\n",
            " |  \n",
            " |  clear(...)\n",
            " |      L.clear() -> None -- remove all items from L\n",
            " |  \n",
            " |  copy(...)\n",
            " |      L.copy() -> list -- a shallow copy of L\n",
            " |  \n",
            " |  count(...)\n",
            " |      L.count(value) -> integer -- return number of occurrences of value\n",
            " |  \n",
            " |  extend(...)\n",
            " |      L.extend(iterable) -> None -- extend list by appending elements from the iterable\n",
            " |  \n",
            " |  index(...)\n",
            " |      L.index(value, [start, [stop]]) -> integer -- return first index of value.\n",
            " |      Raises ValueError if the value is not present.\n",
            " |  \n",
            " |  insert(...)\n",
            " |      L.insert(index, object) -- insert object before index\n",
            " |  \n",
            " |  pop(...)\n",
            " |      L.pop([index]) -> item -- remove and return item at index (default last).\n",
            " |      Raises IndexError if list is empty or index is out of range.\n",
            " |  \n",
            " |  remove(...)\n",
            " |      L.remove(value) -> None -- remove first occurrence of value.\n",
            " |      Raises ValueError if the value is not present.\n",
            " |  \n",
            " |  reverse(...)\n",
            " |      L.reverse() -- reverse *IN PLACE*\n",
            " |  \n",
            " |  sort(...)\n",
            " |      L.sort(key=None, reverse=False) -> None -- stable sort *IN PLACE*\n",
            " |  \n",
            " |  ----------------------------------------------------------------------\n",
            " |  Data and other attributes defined here:\n",
            " |  \n",
            " |  __hash__ = None\n",
            "\n"
          ],
          "name": "stdout"
        }
      ]
    },
    {
      "cell_type": "code",
      "metadata": {
        "colab": {
          "base_uri": "https://localhost:8080/"
        },
        "id": "guLfUS8k-50W",
        "outputId": "3787aed3-b697-44c5-a792-5372cd23758d"
      },
      "source": [
        "cosas = [\"jose\",True,2,3,4,5,\"pedro\",1.23]\r\n",
        "indice = 0\r\n",
        "a_eliminar=[]\r\n",
        "for elemento in cosas:\r\n",
        "    if isinstance( elemento , int ) :\r\n",
        "        print(\"entero\",elemento) # cosas.remove(elemento)\r\n",
        "        a_eliminar.append(elemento)\r\n",
        "    indice += 1\r\n",
        "\r\n",
        "print(a_eliminar)\r\n",
        "for indice in a_eliminar:\r\n",
        "    print( indice)\r\n",
        "    cosas.remove(indice)\r\n",
        "print(cosas)"
      ],
      "execution_count": 15,
      "outputs": [
        {
          "output_type": "stream",
          "text": [
            "entero True\n",
            "entero 2\n",
            "entero 3\n",
            "entero 4\n",
            "entero 5\n",
            "[True, 2, 3, 4, 5]\n",
            "True\n",
            "2\n",
            "3\n",
            "4\n",
            "5\n",
            "['jose', 'pedro', 1.23]\n"
          ],
          "name": "stdout"
        }
      ]
    },
    {
      "cell_type": "code",
      "metadata": {
        "colab": {
          "base_uri": "https://localhost:8080/"
        },
        "id": "imDWNlTlFLxS",
        "outputId": "5e375f6f-33cb-4342-ebbb-f7d8a41afe31"
      },
      "source": [
        "# Slicing sobre listas\r\n",
        "frutas =[\"melon\",\"sandía\",\"kiwi\",\"aguacate\",\"mango\",\"platano\"]\r\n",
        "print(frutas[1:4:])\r\n",
        "\r\n",
        "\r\n",
        "sistemas_operativos= (\"Windows\",\"mac OS\",\"Linux\", \"Android\")\r\n",
        "autos=[\"Ford\",\"Mazda\",\"Honda\"]\r\n",
        "\r\n",
        "cosas= [ sistemas_operativos, autos ]\r\n",
        "print(cosas)\r\n",
        "\r\n",
        "print(cosas[1])\r\n",
        "print(cosas[0][2])\r\n",
        "print(cosas[0][3][2:5:1])\r\n",
        "print(cosas[1][1][-2:-5:-1])"
      ],
      "execution_count": 23,
      "outputs": [
        {
          "output_type": "stream",
          "text": [
            "['sandía', 'kiwi', 'aguacate']\n",
            "[('Windows', 'mac OS', 'Linux', 'Android'), ['Ford', 'Mazda', 'Honda']]\n",
            "['Ford', 'Mazda', 'Honda']\n",
            "Linux\n",
            "dro\n",
            "dza\n"
          ],
          "name": "stdout"
        }
      ]
    }
  ]
}