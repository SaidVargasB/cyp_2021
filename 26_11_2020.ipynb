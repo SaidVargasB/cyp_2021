{
  "nbformat": 4,
  "nbformat_minor": 0,
  "metadata": {
    "colab": {
      "name": "26/11/2020",
      "provenance": [],
      "authorship_tag": "ABX9TyN7vZLKSwpHS+ZsoNBngc7y",
      "include_colab_link": true
    },
    "kernelspec": {
      "name": "python3",
      "display_name": "Python 3"
    }
  },
  "cells": [
    {
      "cell_type": "markdown",
      "metadata": {
        "id": "view-in-github",
        "colab_type": "text"
      },
      "source": [
        "<a href=\"https://colab.research.google.com/github/SaidVargasB/cyp_2021/blob/main/26_11_2020.ipynb\" target=\"_parent\"><img src=\"https://colab.research.google.com/assets/colab-badge.svg\" alt=\"Open In Colab\"/></a>"
      ]
    },
    {
      "cell_type": "code",
      "metadata": {
        "colab": {
          "base_uri": "https://localhost:8080/"
        },
        "id": "t-au7fVflZ61",
        "outputId": "b54721c2-bee7-49b7-8ed6-c59c1d7135c7"
      },
      "source": [
        "if(True):\n",
        "  print(\"La condición se cumple\")\n",
        "\n",
        "print(\"Termina el programa\")"
      ],
      "execution_count": 1,
      "outputs": [
        {
          "output_type": "stream",
          "text": [
            "La condición se cumple\n",
            "Termina el programa\n"
          ],
          "name": "stdout"
        }
      ]
    },
    {
      "cell_type": "code",
      "metadata": {
        "colab": {
          "base_uri": "https://localhost:8080/"
        },
        "id": "6uG4fROQl0Jd",
        "outputId": "dd097f2f-9155-4480-d608-19f7721e2bdb"
      },
      "source": [
        "if (5>3):\n",
        "  print(\"La condición se cumple\")\n",
        "\n",
        "print(\"Termino el programa\")\n"
      ],
      "execution_count": 10,
      "outputs": [
        {
          "output_type": "stream",
          "text": [
            "La condición se cumple\n",
            "Termino el programa\n"
          ],
          "name": "stdout"
        }
      ]
    },
    {
      "cell_type": "code",
      "metadata": {
        "colab": {
          "base_uri": "https://localhost:8080/"
        },
        "id": "usQDhKuZmiDo",
        "outputId": "3b98e207-e632-4735-85f4-9b97f052a527"
      },
      "source": [
        "if (2>3):\n",
        "  print(\"La condición es verdadera\")\n",
        "\n",
        "print(\"No se cumple la condición\")\n"
      ],
      "execution_count": 11,
      "outputs": [
        {
          "output_type": "stream",
          "text": [
            "No se cumple la condición\n"
          ],
          "name": "stdout"
        }
      ]
    },
    {
      "cell_type": "code",
      "metadata": {
        "colab": {
          "base_uri": "https://localhost:8080/"
        },
        "id": "-1Znmy2ypGpF",
        "outputId": "213fc2ad-4f23-414c-d226-846f86e99107"
      },
      "source": [
        "#Ejercicio 1\n",
        "\n",
        "cal=float(input(\"Cual es tu calificaión:\"))\n",
        "if(cal>8):\n",
        "  print(\"Aprobado\")\n",
        "else:\n",
        "  print(\"Reprobado\")"
      ],
      "execution_count": 16,
      "outputs": [
        {
          "output_type": "stream",
          "text": [
            "Cual es tu calificaión:10\n",
            "Aprobado\n"
          ],
          "name": "stdout"
        }
      ]
    },
    {
      "cell_type": "code",
      "metadata": {
        "colab": {
          "base_uri": "https://localhost:8080/"
        },
        "id": "2_MHy1Qzqnzl",
        "outputId": "36cfb0ac-acc3-4995-c426-aea506b8bb2a"
      },
      "source": [
        "#Ejercicio 2\n",
        "SUE=0\n",
        "AUM=0\n",
        "NSUE=0\n",
        "\n",
        "SUE=float(input(\"Ingrese su sueldo:\"))\n",
        "if(SUE<1000):\n",
        "  AUM=(SUE*0.15)\n",
        "  NSUE=(AUM+SUE)\n",
        "  print(\"Su nuevo sueldo es:\", NSUE)\n",
        "else:\n",
        "  print(\"No hay aumento >:(\")"
      ],
      "execution_count": 30,
      "outputs": [
        {
          "output_type": "stream",
          "text": [
            "Ingrese su sueldo:875.50\n",
            "Su nuevo sueldo es: 1006.825\n"
          ],
          "name": "stdout"
        }
      ]
    }
  ]
}