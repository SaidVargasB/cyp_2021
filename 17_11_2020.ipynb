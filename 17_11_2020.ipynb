{
  "nbformat": 4,
  "nbformat_minor": 0,
  "metadata": {
    "colab": {
      "name": "17/11/2020",
      "provenance": [],
      "authorship_tag": "ABX9TyN875uKF42OM7WwOKcR6huW",
      "include_colab_link": true
    },
    "kernelspec": {
      "name": "python3",
      "display_name": "Python 3"
    }
  },
  "cells": [
    {
      "cell_type": "markdown",
      "metadata": {
        "id": "view-in-github",
        "colab_type": "text"
      },
      "source": [
        "<a href=\"https://colab.research.google.com/github/SaidVargasB/cyp_2021/blob/main/17_11_2020.ipynb\" target=\"_parent\"><img src=\"https://colab.research.google.com/assets/colab-badge.svg\" alt=\"Open In Colab\"/></a>"
      ]
    },
    {
      "cell_type": "code",
      "metadata": {
        "id": "N3HX7tjajhNb"
      },
      "source": [
        "#operadores logicos\n",
        "x=5\n",
        "y=4\n",
        "\n",
        "valo0 (x==y)#Son iguales True\n",
        "print(valor)\n",
        "\n",
        "valor= (x!=y)#Son diferentes Verdadero\n",
        "print(valor)\n",
        "\n",
        "valor= (x<y)#x es menor que y? False\n",
        "print(valor)\n",
        "\n",
        "valor= (x>y)#x es mayor que y? True\n",
        "print(valor)\n",
        "y=5\n",
        "valor= (x<=y)#x es menor o igual a y? False\n",
        "print(valor)\n",
        "\n",
        "valor= (x>=y)#x es mayor o igual a y? True\n",
        "print(valor)"
      ],
      "execution_count": null,
      "outputs": []
    },
    {
      "cell_type": "code",
      "metadata": {
        "colab": {
          "base_uri": "https://localhost:8080/"
        },
        "id": "5nuIKUwQlVDq",
        "outputId": "d34e7de0-402b-48fb-874b-629cfbdc3f00"
      },
      "source": [
        "costo_chetos = 7.0\n",
        "tienda_abierta= True\n",
        "capital_en_bolsa = 10\n",
        "se_compra = (costo_chetos < capital_en_bolsa) and (tienda_abierta == True)\n",
        "print(se_compra)"
      ],
      "execution_count": 3,
      "outputs": [
        {
          "output_type": "stream",
          "text": [
            "True\n"
          ],
          "name": "stdout"
        }
      ]
    },
    {
      "cell_type": "code",
      "metadata": {
        "id": "XmR3WfJolH0K"
      },
      "source": [
        ""
      ],
      "execution_count": null,
      "outputs": []
    }
  ]
}