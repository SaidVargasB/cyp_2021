{
  "nbformat": 4,
  "nbformat_minor": 0,
  "metadata": {
    "colab": {
      "name": "12-11-2020",
      "provenance": [],
      "collapsed_sections": [],
      "authorship_tag": "ABX9TyNhCp4t0KeB45SDKRq0sYC3",
      "include_colab_link": true
    },
    "kernelspec": {
      "name": "python3",
      "display_name": "Python 3"
    }
  },
  "cells": [
    {
      "cell_type": "markdown",
      "metadata": {
        "id": "view-in-github",
        "colab_type": "text"
      },
      "source": [
        "<a href=\"https://colab.research.google.com/github/SaidVargasB/cyp_2021/blob/main/12_11_2020.ipynb\" target=\"_parent\"><img src=\"https://colab.research.google.com/assets/colab-badge.svg\" alt=\"Open In Colab\"/></a>"
      ]
    },
    {
      "cell_type": "code",
      "metadata": {
        "id": "ePzvsRKMccRX",
        "outputId": "79fc2087-995b-4dcd-f877-299c6f9d4ad8",
        "colab": {
          "base_uri": "https://localhost:8080/"
        }
      },
      "source": [
        "#Ejemplo 1\n",
        "numero=int (input(\"Dame un numero:\"))\n",
        "if numero >0:\n",
        "  print(\"El numero es positivo\")\n",
        "\n",
        "  print( \"Fin del programa\")"
      ],
      "execution_count": 2,
      "outputs": [
        {
          "output_type": "stream",
          "text": [
            "Dame un numero:8\n",
            "El numero es positivo\n",
            "Fin del programa\n"
          ],
          "name": "stdout"
        }
      ]
    },
    {
      "cell_type": "code",
      "metadata": {
        "id": "NT5Yb3WsfB1x",
        "outputId": "52ebff03-9bec-47ad-cdab-1054ff20b0f1",
        "colab": {
          "base_uri": "https://localhost:8080/"
        }
      },
      "source": [
        "#Ejemplo 2\n",
        "numero= int(input(\"Digite un numero:\"))\n",
        "if numero >0:\n",
        "  print(\"El numero es positivo\")\n",
        "else:\n",
        "  print(\"El numero es negativo\")\n"
      ],
      "execution_count": 5,
      "outputs": [
        {
          "output_type": "stream",
          "text": [
            "Digite un numero:6\n",
            "El numero es positivo\n"
          ],
          "name": "stdout"
        }
      ]
    },
    {
      "cell_type": "code",
      "metadata": {
        "id": "9orKLlBbhASU",
        "outputId": "30c3c990-d135-424d-dbb6-b9e0ccfa0c48",
        "colab": {
          "base_uri": "https://localhost:8080/"
        }
      },
      "source": [
        "#Ejemplo 3\n",
        "numero= int(input(\"Digite un numero:\"))\n",
        "if numero >0:\n",
        "  print(\"El numero es positivo\")\n",
        "elif numero==0:\n",
        "  print(\"El numero es cero\")\n",
        "\n",
        "else:#sino imprime negativo\n",
        "  print(\"El numero es negativo\")\n",
        "\n",
        "print(\"Fin del programa\")"
      ],
      "execution_count": 6,
      "outputs": [
        {
          "output_type": "stream",
          "text": [
            "Digite un numero:-9\n",
            "El numero es negativo\n",
            "Fin del programa\n"
          ],
          "name": "stdout"
        }
      ]
    }
  ]
}