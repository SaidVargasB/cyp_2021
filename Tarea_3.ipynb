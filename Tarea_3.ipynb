{
  "nbformat": 4,
  "nbformat_minor": 0,
  "metadata": {
    "colab": {
      "name": "Tarea 3",
      "provenance": [],
      "authorship_tag": "ABX9TyMKmmVAhFp+giKxBi42J0an",
      "include_colab_link": true
    },
    "kernelspec": {
      "name": "python3",
      "display_name": "Python 3"
    }
  },
  "cells": [
    {
      "cell_type": "markdown",
      "metadata": {
        "id": "view-in-github",
        "colab_type": "text"
      },
      "source": [
        "<a href=\"https://colab.research.google.com/github/SaidVargasB/cyp_2021/blob/main/Tarea_3.ipynb\" target=\"_parent\"><img src=\"https://colab.research.google.com/assets/colab-badge.svg\" alt=\"Open In Colab\"/></a>"
      ]
    },
    {
      "cell_type": "code",
      "metadata": {
        "id": "iQ6udeCrlFAa",
        "colab": {
          "base_uri": "https://localhost:8080/"
        },
        "outputId": "c5d7069f-565e-4c90-eb47-5497d25ee297"
      },
      "source": [
        "#Ejemplo 1.1\n",
        "\n",
        "prepro=0\n",
        "pago=0\n",
        "devo=0\n",
        "\n",
        "prepro= float(input(\"Ingrese el precio del producto:\"))\n",
        "pago= float(input(\"Ingrese el monto del pago\"))\n",
        "devo= (pago-prepro)\n",
        "print(\"Cambio a dar:\", devo)"
      ],
      "execution_count": 14,
      "outputs": [
        {
          "output_type": "stream",
          "text": [
            "Ingrese el precio del producto:86.25\n",
            "Ingrese el monto del pago100\n",
            "Cambio a dar: 13.75\n"
          ],
          "name": "stdout"
        }
      ]
    },
    {
      "cell_type": "code",
      "metadata": {
        "id": "S0fnA1dolyoW",
        "colab": {
          "base_uri": "https://localhost:8080/"
        },
        "outputId": "9b174fdb-4f24-46d1-a561-6cbb2f60f26c"
      },
      "source": [
        "#Ejemplo 1.2\n",
        "\n",
        "base=0\n",
        "alt=0\n",
        "sup=0\n",
        "\n",
        "base= float(input(\"Ingrese la base del triangulo:\"))\n",
        "alt= float(input(\"Ingrese la altura del trángulo:\"))\n",
        "\n",
        "sup= (base*alt)/2\n",
        "print(\"La superficie del triangulo es:\", sup)"
      ],
      "execution_count": 15,
      "outputs": [
        {
          "output_type": "stream",
          "text": [
            "Ingrese la base del triangulo:8.50\n",
            "Ingrese la altura del trángulo:7.20\n",
            "La superficie del triangulo es: 30.6\n"
          ],
          "name": "stdout"
        }
      ]
    },
    {
      "cell_type": "code",
      "metadata": {
        "colab": {
          "base_uri": "https://localhost:8080/"
        },
        "id": "Rv6PfLr8lFNe",
        "outputId": "0171fb1c-7e36-4b20-954c-a10d1fe85111"
      },
      "source": [
        "# Ejemplo 1.3\n",
        "\n",
        "nom=0\n",
        "pes=0\n",
        "lon=0\n",
        "pesk=0\n",
        "lonm=0\n",
        "\n",
        "nom= input(\"Ingrese el nombre del dinosaurio:\")\n",
        "pes= float(input(\"Ingrese el peso del dinosaurio en toneladas:\"))\n",
        "lonm= float(input(\"Ingrese la altura del dinosaurio en pies:\"))\n",
        "\n",
        "pesk= (pes * 1000)\n",
        "altm= (lonm * .3047)\n",
        "print(f\"El dinosaurio {nom}, pesa {pesk}toneladas y mide {altm}m\")"
      ],
      "execution_count": null,
      "outputs": [
        {
          "output_type": "stream",
          "text": [
            "Ingrese el nombre del dinosaurio:Brontosaurus\n",
            "Ingrese el peso del dinosaurio en toneladas:25\n",
            "Ingrese la altura del dinosaurio en pies:70\n",
            "El dinosaurio Brontosaurus, pesa 25000.0toneladas y mide 21.329m\n"
          ],
          "name": "stdout"
        }
      ]
    },
    {
      "cell_type": "code",
      "metadata": {
        "id": "vdqaxYHU-9ZG",
        "colab": {
          "base_uri": "https://localhost:8080/"
        },
        "outputId": "75c92912-46d0-422d-bd05-63fea0186118"
      },
      "source": [
        "#Ejemplo 1.4\n",
        "\n",
        "gal=3.785\n",
        "total=0\n",
        "galpedidos=0\n",
        "\n",
        "galpedidos= float(input(\"Ingrese la cantidad pedida:\"))\n",
        "total= (gal*8.20*galpedidos)\n",
        "print(\"Total a pagar:\", total)\n"
      ],
      "execution_count": 18,
      "outputs": [
        {
          "output_type": "stream",
          "text": [
            "Ingrese la cantidad pedida:10.38\n",
            "Total a pagar: 322.16406\n"
          ],
          "name": "stdout"
        }
      ]
    },
    {
      "cell_type": "code",
      "metadata": {
        "id": "oLDsi6UtlPYQ",
        "colab": {
          "base_uri": "https://localhost:8080/"
        },
        "outputId": "7cd42083-12d1-4830-8819-6e932b88e55f"
      },
      "source": [
        "#Ejemplo 1.5\n",
        "\n",
        "rad=0\n",
        "altu=0\n",
        "vol=0\n",
        "area=0\n",
        "pi= 3.141592\n",
        "\n",
        "rad= float(input(\"Ingrese el radio del cilindro:\"))\n",
        "altu= float(input(\"Ingrese la altura del cilindro:\"))\n",
        "vol= pi*(rad**2)*altu\n",
        "area= (2*pi*rad*altu)\n",
        "print(f\"Volumen= {vol} y Area= {area}\")"
      ],
      "execution_count": 25,
      "outputs": [
        {
          "output_type": "stream",
          "text": [
            "Ingrese el radio del cilindro:45.22\n",
            "Ingrese la altura del cilindro:11.60\n",
            "Volumen= 74519.32074597248 y Area= 3295.856733568\n"
          ],
          "name": "stdout"
        }
      ]
    },
    {
      "cell_type": "code",
      "metadata": {
        "id": "2cmlPt9plUnu",
        "colab": {
          "base_uri": "https://localhost:8080/"
        },
        "outputId": "58c0ab6f-62d0-401e-96ea-aed34f4d5e2f"
      },
      "source": [
        "#Ejemplo 1.6\n",
        "\n",
        "dias=0\n",
        "seg=0\n",
        "\n",
        "dias= int(input(\"Ingrese los dias deseados:\"))\n",
        "seg= (dias*24*60*60)\n",
        "print(f\"Total {seg} segundos\")"
      ],
      "execution_count": 26,
      "outputs": [
        {
          "output_type": "stream",
          "text": [
            "Ingrese los dias deseados:7\n",
            "Total 604800 segundos\n"
          ],
          "name": "stdout"
        }
      ]
    }
  ]
}