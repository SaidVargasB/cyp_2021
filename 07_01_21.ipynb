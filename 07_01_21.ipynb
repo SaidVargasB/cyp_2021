{
  "nbformat": 4,
  "nbformat_minor": 0,
  "metadata": {
    "colab": {
      "name": "07/01/21",
      "provenance": [],
      "authorship_tag": "ABX9TyO/sLeQtAPSMF9YaBa3DRYV",
      "include_colab_link": true
    },
    "kernelspec": {
      "name": "python3",
      "display_name": "Python 3"
    }
  },
  "cells": [
    {
      "cell_type": "markdown",
      "metadata": {
        "id": "view-in-github",
        "colab_type": "text"
      },
      "source": [
        "<a href=\"https://colab.research.google.com/github/SaidVargasB/cyp_2021/blob/main/07_01_21.ipynb\" target=\"_parent\"><img src=\"https://colab.research.google.com/assets/colab-badge.svg\" alt=\"Open In Colab\"/></a>"
      ]
    },
    {
      "cell_type": "code",
      "metadata": {
        "colab": {
          "base_uri": "https://localhost:8080/"
        },
        "id": "15ZHT0DCxAz5",
        "outputId": "c2cf9ed3-8c35-42f5-8a15-b92849738587"
      },
      "source": [
        "REN=3\r\n",
        "COL=5\r\n",
        "VEC=[[0 for x in range (COL)] for x in range (REN)]\r\n",
        "print(VEC)\r\n",
        "VEC[1][2]=15\r\n",
        "print(VEC)\r\n",
        "print(\"Automatizar el recoorrido del arreglo\")\r\n",
        "for i in range(REN):\r\n",
        "  for j in range (COL):\r\n",
        "    print(f\"{i},{j}={VEC[i][j]}\")"
      ],
      "execution_count": 3,
      "outputs": [
        {
          "output_type": "stream",
          "text": [
            "[[0, 0, 0, 0, 0], [0, 0, 0, 0, 0], [0, 0, 0, 0, 0]]\n",
            "[[0, 0, 0, 0, 0], [0, 0, 15, 0, 0], [0, 0, 0, 0, 0]]\n",
            "Automatizar el recoorrido del arreglo\n",
            "0,0=0\n",
            "0,1=0\n",
            "0,2=0\n",
            "0,3=0\n",
            "0,4=0\n",
            "1,0=0\n",
            "1,1=0\n",
            "1,2=15\n",
            "1,3=0\n",
            "1,4=0\n",
            "2,0=0\n",
            "2,1=0\n",
            "2,2=0\n",
            "2,3=0\n",
            "2,4=0\n"
          ],
          "name": "stdout"
        }
      ]
    },
    {
      "cell_type": "code",
      "metadata": {
        "colab": {
          "base_uri": "https://localhost:8080/"
        },
        "id": "_DjlqRXVFPUx",
        "outputId": "4fa16ade-e492-4f7e-ce95-934e4cb5e117"
      },
      "source": [
        "estados= int (input(\"Cuantos estados son: \"))\r\n",
        "lluvias_men_est= [ [0 for x in range(12)] for x in range(estados + 1)]\r\n",
        "print(lluvias_men_est)\r\n",
        "for i in range(estados):\r\n",
        "  for j in range(12):\r\n",
        "    mensaje=\"Dame el valor del estado\"+ str(i+1) +\"del mes\"+ str(j+1),\":\"\r\n",
        "    aux=int(input(mensaje))\r\n",
        "    lluvias_men_est[i][j]=aux\r\n",
        "\r\n",
        "print(lluvias_men_est)\r\n",
        "\r\n",
        "print(\"Promedio de lluvias de los estados: \")\r\n",
        "suma=0\r\n",
        "for i in range(estados):\r\n",
        "  suma=0\r\n",
        "  for j in  range(12):\r\n",
        "    suma=suma + lluvias_men_est[i][j]\r\n",
        "  print(f\"El promedio de lluvias en el estado{i+1} es {suma/12}\")"
      ],
      "execution_count": 1,
      "outputs": [
        {
          "output_type": "stream",
          "text": [
            "Cuantos estados son: 2\n",
            "[[0, 0, 0, 0, 0, 0, 0, 0, 0, 0, 0, 0], [0, 0, 0, 0, 0, 0, 0, 0, 0, 0, 0, 0], [0, 0, 0, 0, 0, 0, 0, 0, 0, 0, 0, 0]]\n",
            "Dame el valor del estado1del mes1,:50\n",
            "Dame el valor del estado1del mes2,:7\n",
            "Dame el valor del estado1del mes3,:12\n",
            "Dame el valor del estado1del mes4,:15\n",
            "Dame el valor del estado1del mes5,:22\n",
            "Dame el valor del estado1del mes6,:50\n",
            "Dame el valor del estado1del mes7,:85\n",
            "Dame el valor del estado1del mes8,:70\n",
            "Dame el valor del estado1del mes9,:65\n",
            "Dame el valor del estado1del mes10,:28\n",
            "Dame el valor del estado1del mes11,:35\n",
            "Dame el valor del estado1del mes12,:17\n",
            "Dame el valor del estado2del mes1,:45\n",
            "Dame el valor del estado2del mes2,:3\n",
            "Dame el valor del estado2del mes3,:10\n",
            "Dame el valor del estado2del mes4,:5\n",
            "Dame el valor del estado2del mes5,:30\n",
            "Dame el valor del estado2del mes6,:90\n",
            "Dame el valor del estado2del mes7,:130\n",
            "Dame el valor del estado2del mes8,:75\n",
            "Dame el valor del estado2del mes9,:49\n",
            "Dame el valor del estado2del mes10,:37\n",
            "Dame el valor del estado2del mes11,:15\n",
            "Dame el valor del estado2del mes12,:8\n",
            "[[50, 7, 12, 15, 22, 50, 85, 70, 65, 28, 35, 17], [45, 3, 10, 5, 30, 90, 130, 75, 49, 37, 15, 8], [0, 0, 0, 0, 0, 0, 0, 0, 0, 0, 0, 0]]\n",
            "Promedio de lluvias de los estados: \n",
            "El promedio de lluvias en el estado1 es 38.0\n",
            "El promedio de lluvias en el estado2 es 41.416666666666664\n"
          ],
          "name": "stdout"
        }
      ]
    },
    {
      "cell_type": "code",
      "metadata": {
        "id": "rz0ZeU0QFZ0B"
      },
      "source": [
        ""
      ],
      "execution_count": null,
      "outputs": []
    }
  ]
}