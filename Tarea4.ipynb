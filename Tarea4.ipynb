{
  "nbformat": 4,
  "nbformat_minor": 0,
  "metadata": {
    "colab": {
      "name": "Tarea4",
      "provenance": [],
      "authorship_tag": "ABX9TyMwJ95ivHXo2a5SFC/ZYuR4",
      "include_colab_link": true
    },
    "kernelspec": {
      "name": "python3",
      "display_name": "Python 3"
    }
  },
  "cells": [
    {
      "cell_type": "markdown",
      "metadata": {
        "id": "view-in-github",
        "colab_type": "text"
      },
      "source": [
        "<a href=\"https://colab.research.google.com/github/SaidVargasB/cyp_2021/blob/main/Tarea4.ipynb\" target=\"_parent\"><img src=\"https://colab.research.google.com/assets/colab-badge.svg\" alt=\"Open In Colab\"/></a>"
      ]
    },
    {
      "cell_type": "code",
      "metadata": {
        "id": "aDY2NT3SIUhv",
        "colab": {
          "base_uri": "https://localhost:8080/"
        },
        "outputId": "e6a7608f-c3af-47c3-faf3-5ec0a04b0aa5"
      },
      "source": [
        "#Ejercicio 2.4 (p.60)\n",
        "\n",
        "sue= float(input(\"Ingrese su sueldo:\"))\n",
        "\n",
        "if (sue<1000):\n",
        "  nsue= (sue*0.15) + sue\n",
        "elif (sue>1000):\n",
        "  nsue= (sue*0.12) + sue\n",
        "  print(\"Su nuevo sueldo es de: $\",nsue)\n",
        "\n"
      ],
      "execution_count": 32,
      "outputs": [
        {
          "output_type": "stream",
          "text": [
            "Ingrese su sueldo:1950\n",
            "Su nuevo sueldo es de: $ 2184.0\n"
          ],
          "name": "stdout"
        }
      ]
    },
    {
      "cell_type": "code",
      "metadata": {
        "colab": {
          "base_uri": "https://localhost:8080/"
        },
        "id": "rO6Dgu0GJC7D",
        "outputId": "0e921649-cbbf-4ca2-e96f-b8871191d8f3"
      },
      "source": [
        "#Ejercicio 2.8 (p.68)\n",
        "\n",
        "cat= int(input(\"Categoría:\"))\n",
        "sue= float(input(\"Salario:\"))\n",
        "\n",
        "if (cat == 1):\n",
        "  nsue=((sue / 100) * 15) + sue\n",
        "elif (cat == 2):\n",
        "    nsue=((sue / 100)* 10) + sue\n",
        "elif (cat == 3):\n",
        "    nsue=((sue / 100) * 8) + sue\n",
        "    print(\"El salario total para el empleado categoría\", cat, \"es: $\", nsue)"
      ],
      "execution_count": 28,
      "outputs": [
        {
          "output_type": "stream",
          "text": [
            "Categoría:3\n",
            "Salario:3800\n",
            "El salario total para el empleado categoría 3 es: $ 4104.0\n"
          ],
          "name": "stdout"
        }
      ]
    }
  ]
}