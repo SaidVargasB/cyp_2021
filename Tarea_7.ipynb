{
  "nbformat": 4,
  "nbformat_minor": 0,
  "metadata": {
    "colab": {
      "name": "Tarea 7",
      "provenance": [],
      "authorship_tag": "ABX9TyMymptGUAi+OSuBh/T8Jnc3",
      "include_colab_link": true
    },
    "kernelspec": {
      "name": "python3",
      "display_name": "Python 3"
    }
  },
  "cells": [
    {
      "cell_type": "markdown",
      "metadata": {
        "id": "view-in-github",
        "colab_type": "text"
      },
      "source": [
        "<a href=\"https://colab.research.google.com/github/SaidVargasB/cyp_2021/blob/main/Tarea_7.ipynb\" target=\"_parent\"><img src=\"https://colab.research.google.com/assets/colab-badge.svg\" alt=\"Open In Colab\"/></a>"
      ]
    },
    {
      "cell_type": "code",
      "metadata": {
        "colab": {
          "base_uri": "https://localhost:8080/"
        },
        "id": "hoVfrbEnRI1_",
        "outputId": "d0671838-b297-48b2-df0d-800a4bdaa9ef"
      },
      "source": [
        "#Problema 4.11\r\n",
        "total = int(input(\"Ingrese la cantidad de países: \"))\r\n",
        "\r\n",
        "qnorte, qcentro, qsur, aux, aux2 = 0, 0, 0, 0, 0\r\n",
        "while True:\r\n",
        "  qnorte = int(input(\"Ingrese la cantidad de países de Norte de América: \"))\r\n",
        "  qcentro = int(input(\"Ingrese la cantidad de países de Centro de América: \"))\r\n",
        "  qsur = int(input(\"Ingrese la cantidad de países de Sur de América: \"))\r\n",
        "  aux = qnorte + qcentro + qsur\r\n",
        "\r\n",
        "  if aux == total:\r\n",
        "    break;\r\n",
        "  elif aux < total:\r\n",
        "    print(\"La cantidad de países ingresada por regiones es menor a la total.\")\r\n",
        "  elif aux > total:\r\n",
        "    print(\"La cantidad de países ingresada por regiones es mayor a la total.\")\r\n",
        "\r\n",
        "lpaises = [\"Norte\", \"Centro\", \"Sur\"]\r\n",
        "aux = 0\r\n",
        "pnorte = [str(0) for x in range(qnorte)]\r\n",
        "pcentro = [str(0) for x in range(qcentro)]\r\n",
        "psur = [str(0) for x in range(qsur)]\r\n",
        "ptotal = [str(0) for x in range(total)]\r\n",
        "\r\n",
        "for i in range(total):\r\n",
        "  ptotal[i] = str(input(f\"Ingrese el país n°{aux+1} para la región del {lpaises[aux2]} de América: \"))\r\n",
        "  aux += 1\r\n",
        "  if aux2 == 0:\r\n",
        "    if aux >= qnorte:\r\n",
        "      aux = 0\r\n",
        "      aux2 = 1\r\n",
        "    pnorte[aux] = ptotal[i]\r\n",
        "  elif aux2 == 1:\r\n",
        "    if aux >= qcentro:\r\n",
        "      aux = 0\r\n",
        "      aux2 = 2\r\n",
        "    pcentro[aux] = ptotal[i]\r\n",
        "  elif aux2 == 2:\r\n",
        "    if aux >= qsur:\r\n",
        "      aux = 0\r\n",
        "    psur[aux] = ptotal[i]\r\n",
        "\r\n",
        "print(f\"Norte: {sorted(pnorte)}\")\r\n",
        "print(f\"Centro: {sorted(pcentro)}\")\r\n",
        "print(f\"Sur: {sorted(psur)}\")\r\n",
        "print(f\"Todos: {sorted(ptotal)}\")"
      ],
      "execution_count": 3,
      "outputs": [
        {
          "output_type": "stream",
          "text": [
            "Ingrese la cantidad de países: 36\n",
            "Ingrese la cantidad de países de Norte de América: 8\n",
            "Ingrese la cantidad de países de Centro de América: 7\n",
            "Ingrese la cantidad de países de Sur de América: 21\n",
            "Ingrese el país n°1 para la región del Norte de América: Canadá\n",
            "Ingrese el país n°2 para la región del Norte de América: Estados Unidos\n",
            "Ingrese el país n°3 para la región del Norte de América: México\n",
            "Ingrese el país n°4 para la región del Norte de América: Jamaica\n",
            "Ingrese el país n°5 para la región del Norte de América: Cuba\n",
            "Ingrese el país n°6 para la región del Norte de América: Bahamas\n",
            "Ingrese el país n°7 para la región del Norte de América: Haití\n",
            "Ingrese el país n°8 para la región del Norte de América: República Dominicana\n",
            "Ingrese el país n°1 para la región del Centro de América: Guatemala\n",
            "Ingrese el país n°2 para la región del Centro de América: Belica\n",
            "Ingrese el país n°3 para la región del Centro de América: Honduras\n",
            "Ingrese el país n°4 para la región del Centro de América: El Salvador\n",
            "Ingrese el país n°5 para la región del Centro de América: Nicaragua\n",
            "Ingrese el país n°6 para la región del Centro de América: Costa Rica\n",
            "Ingrese el país n°7 para la región del Centro de América: Panama\n",
            "Ingrese el país n°1 para la región del Sur de América: Colombia\n",
            "Ingrese el país n°2 para la región del Sur de América: Venezuela\n",
            "Ingrese el país n°3 para la región del Sur de América: Ecuador\n",
            "Ingrese el país n°4 para la región del Sur de América: Perú\n",
            "Ingrese el país n°5 para la región del Sur de América: Brasil\n",
            "Ingrese el país n°6 para la región del Sur de América: Bolivia\n",
            "Ingrese el país n°7 para la región del Sur de América: Paraguay\n",
            "Ingrese el país n°8 para la región del Sur de América: Uruguay\n",
            "Ingrese el país n°9 para la región del Sur de América: Chile\n",
            "Ingrese el país n°10 para la región del Sur de América: Argentina\n",
            "Ingrese el país n°11 para la región del Sur de América: Surinami\n",
            "Ingrese el país n°12 para la región del Sur de América: Guyana\n",
            "Ingrese el país n°13 para la región del Sur de América: Trinidad Y Tobago\n",
            "Ingrese el país n°14 para la región del Sur de América: Granada\n",
            "Ingrese el país n°15 para la región del Sur de América: Barbados\n",
            "Ingrese el país n°16 para la región del Sur de América: San Vicente\n",
            "Ingrese el país n°17 para la región del Sur de América: Santa Lucía\n",
            "Ingrese el país n°18 para la región del Sur de América: Dominica\n",
            "Ingrese el país n°19 para la región del Sur de América: Antigua Y Barbuda\n",
            "Ingrese el país n°20 para la región del Sur de América: San Cristobal\n",
            "Ingrese el país n°21 para la región del Sur de América: Malvinas\n",
            "Norte: ['Bahamas', 'Canadá', 'Cuba', 'Estados Unidos', 'Haití', 'Jamaica', 'México', 'República Dominicana']\n",
            "Centro: ['Belica', 'Costa Rica', 'El Salvador', 'Guatemala', 'Honduras', 'Nicaragua', 'Panama']\n",
            "Sur: ['Antigua Y Barbuda', 'Argentina', 'Barbados', 'Bolivia', 'Brasil', 'Chile', 'Colombia', 'Dominica', 'Ecuador', 'Granada', 'Guyana', 'Malvinas', 'Paraguay', 'Perú', 'San Cristobal', 'San Vicente', 'Santa Lucía', 'Surinami', 'Trinidad Y Tobago', 'Uruguay', 'Venezuela']\n",
            "Todos: ['Antigua Y Barbuda', 'Argentina', 'Bahamas', 'Barbados', 'Belica', 'Bolivia', 'Brasil', 'Canadá', 'Chile', 'Colombia', 'Costa Rica', 'Cuba', 'Dominica', 'Ecuador', 'El Salvador', 'Estados Unidos', 'Granada', 'Guatemala', 'Guyana', 'Haití', 'Honduras', 'Jamaica', 'Malvinas', 'México', 'Nicaragua', 'Panama', 'Paraguay', 'Perú', 'República Dominicana', 'San Cristobal', 'San Vicente', 'Santa Lucía', 'Surinami', 'Trinidad Y Tobago', 'Uruguay', 'Venezuela']\n"
          ],
          "name": "stdout"
        }
      ]
    }
  ]
}