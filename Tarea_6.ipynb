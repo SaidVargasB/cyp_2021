{
  "nbformat": 4,
  "nbformat_minor": 0,
  "metadata": {
    "colab": {
      "name": "Tarea 6",
      "provenance": [],
      "authorship_tag": "ABX9TyOkz9oFE0cQdnwG5ViT4cQ8",
      "include_colab_link": true
    },
    "kernelspec": {
      "name": "python3",
      "display_name": "Python 3"
    }
  },
  "cells": [
    {
      "cell_type": "markdown",
      "metadata": {
        "id": "view-in-github",
        "colab_type": "text"
      },
      "source": [
        "<a href=\"https://colab.research.google.com/github/SaidVargasB/cyp_2021/blob/main/Tarea_6.ipynb\" target=\"_parent\"><img src=\"https://colab.research.google.com/assets/colab-badge.svg\" alt=\"Open In Colab\"/></a>"
      ]
    },
    {
      "cell_type": "code",
      "metadata": {
        "id": "1uQqvE5nlaJW",
        "colab": {
          "base_uri": "https://localhost:8080/"
        },
        "outputId": "7d241bb9-4817-47e4-a1f3-6d79d339f776"
      },
      "source": [
        "#Problema 3.3\r\n",
        "Serie = 0\r\n",
        "\r\n",
        "N = int(input(\"Colocar un número N\\n\"))\r\n",
        "\r\n",
        "Band = True\r\n",
        "I = 1\r\n",
        "\r\n",
        "while ( I <= N ):\r\n",
        "  if (Band == True):\r\n",
        "    Serie = Serie + 1/I\r\n",
        "    Band = False\r\n",
        "  else:\r\n",
        "    Serie = Serie - 1/I\r\n",
        "    Band = True\r\n",
        "  I = I + 1\r\n",
        "\r\n",
        "print(Serie)\r\n"
      ],
      "execution_count": null,
      "outputs": [
        {
          "output_type": "stream",
          "text": [
            "Colocar un número N\n",
            "9\n",
            "0.7456349206349207\n"
          ],
          "name": "stdout"
        }
      ]
    },
    {
      "cell_type": "code",
      "metadata": {
        "id": "bGuETqCXflbv",
        "colab": {
          "base_uri": "https://localhost:8080/"
        },
        "outputId": "061f6e70-26c7-47b6-a49a-510711ad9fa2"
      },
      "source": [
        "#Problema 3.4\r\n",
        "nom=0\r\n",
        "sue= float (input(\"Ingrese su sueldo: \\n $\"))\r\n",
        "while (sue!=-1):\r\n",
        "  if (sue<=1000):\r\n",
        "    nsue=sue*1.15\r\n",
        "    \r\n",
        "  else:\r\n",
        "    nsue=sue*1.12\r\n",
        "\r\n",
        "  print(f\"Su nuevo sueldo es de: $\",nsue)  \r\n",
        "  nom=nom+nsue\r\n",
        "  sue= float (input(\"Ingrese su sueldo\\n $\"))\r\n",
        "\r\n",
        "print(\"La nomina empresarial es de: $\",nom)"
      ],
      "execution_count": 17,
      "outputs": [
        {
          "output_type": "stream",
          "text": [
            "Ingrese su sueldo: \n",
            " $760.32\n",
            "Su nuevo sueldo es de: $ 874.3679999999999\n",
            "Ingrese su sueldo\n",
            " $1100.20\n",
            "Su nuevo sueldo es de: $ 1232.2240000000002\n",
            "Ingrese su sueldo\n",
            " $614\n",
            "Su nuevo sueldo es de: $ 706.0999999999999\n",
            "Ingrese su sueldo\n",
            " $2600\n",
            "Su nuevo sueldo es de: $ 2912.0000000000005\n",
            "Ingrese su sueldo\n",
            " $-1\n",
            "La nomina empresarial es de: $ 5724.692000000001\n"
          ],
          "name": "stdout"
        }
      ]
    },
    {
      "cell_type": "code",
      "metadata": {
        "colab": {
          "base_uri": "https://localhost:8080/"
        },
        "id": "nglDDgS7_NGJ",
        "outputId": "d05bf930-5cd5-4a11-eeae-f544073b64df"
      },
      "source": [
        "  #Problema 3.5\r\n",
        "sumotr=0\r\n",
        "sumpos=0\r\n",
        "cuepos=0\r\n",
        "n= int (input(\"Ingrese la cantidad de números que desea sumar\\n\"))\r\n",
        "i=1\r\n",
        "for i in range (n):\r\n",
        "   num = int (input(f\"Ingrese el número {i+1}° \\n\"))\r\n",
        "  if (num>0):\r\n",
        "    sumpos=sumpos+num\r\n",
        "    cuepos=cuepos+1 \r\n",
        "    \r\n",
        "  else:\r\n",
        "    sumotr=sumotr+num\r\n",
        "   \r\n",
        "  i=i+1\r\n",
        "\r\n",
        "progen=(sumpos+sumotr)/n\r\n",
        "propos=(sumpos/cuepos)\r\n",
        "\r\n",
        "print(\"La cantidad de números positivos que ingreso fue de:\",cuepos)\r\n",
        "print(\"El promedio general de los números es:\",progen)\r\n",
        "print(\"El promedio de los números positivos ingresados fue de\", propos)"
      ],
      "execution_count": 19,
      "outputs": [
        {
          "output_type": "stream",
          "text": [
            "Ingrese la cantidad de números que desea sumar\n",
            "5\n",
            "Ingrese el número 1° \n",
            "-5\n",
            "Ingrese el número 2° \n",
            "5\n",
            "Ingrese el número 3° \n",
            "-3\n",
            "Ingrese el número 4° \n",
            "20\n",
            "Ingrese el número 5° \n",
            "15\n",
            "La cantidad de números positivos que ingreso fue de: 1\n",
            "El promedio general de los números es: 3.0\n",
            "El promedio de los números positivos ingresados fue de 15.0\n"
          ],
          "name": "stdout"
        }
      ]
    },
    {
      "cell_type": "code",
      "metadata": {
        "id": "A2JJyTmxTGgG",
        "colab": {
          "base_uri": "https://localhost:8080/"
        },
        "outputId": "94bc096a-bcd0-4497-fff6-37a3802de433"
      },
      "source": [
        "#Problema 3.6\r\n",
        "May=-100000\r\n",
        "Men=100000\r\n",
        "N= int(input(\"Ingrese la canidad de datos: \"))\r\n",
        "if N < 1 :\r\n",
        "  print(\"Cantidad incorrecta. Intente nuevamente.\")\r\n",
        "else:\r\n",
        "  Num= []\r\n",
        "  i = 1\r\n",
        "  while i <= N :\r\n",
        "    Num.append(int(input(\"Número: \")))\r\n",
        "    i += 1\r\n",
        "  for i in range (N) :\r\n",
        "    for j in range (N - 1) :\r\n",
        "        if Num [j] > Num [j+1] :\r\n",
        "           aux = Num [j+1]\r\n",
        "           Num[j+1] = Num[j]\r\n",
        "           Num[j] = aux\r\n",
        "print(f\"El número mas pequeño es: {Num[0]}\")\r\n",
        "print(f\"El número mas grande es: {Num[N - 1]}\")\r\n",
        "\r\n"
      ],
      "execution_count": null,
      "outputs": [
        {
          "output_type": "stream",
          "text": [
            "Ingrese la canidad de datos: 5\n",
            "Número: 1\n",
            "Número: 2\n",
            "Número: 3\n",
            "Número: 4\n",
            "Número: 5\n",
            "El número mas pequeño es: 1\n",
            "El número mas grande es: 5\n"
          ],
          "name": "stdout"
        }
      ]
    },
    {
      "cell_type": "code",
      "metadata": {
        "id": "XJEwI8vrfs9b",
        "colab": {
          "base_uri": "https://localhost:8080/"
        },
        "outputId": "796f47b5-269a-4101-b05c-c1cb2deb88dc"
      },
      "source": [
        "#Problema 3.7\r\n",
        "med=0\r\n",
        "chi=0\r\n",
        "gra=0\r\n",
        "n=int (input(\"Ingrese la cantidad de ventas que realizo: \\n\"))\r\n",
        "i=1\r\n",
        "for i in range (n):\r\n",
        "  v =float (input(f\"Ingrese el valor de la venta {i+1}\\n $\"))\r\n",
        "  if (v<=200):\r\n",
        "    chi=chi+1\r\n",
        "  elif (v<400):\r\n",
        "    med=med+1\r\n",
        "  else:\r\n",
        "    gra=gra+1\r\n",
        "  i=i+1\r\n",
        "\r\n",
        "print(\"Usted realizo\",chi,\"ventas chicas\")\r\n",
        "print(\"Usted realizo\",med,\"ventas medianas\")\r\n",
        "print(\"Usted realizo\",gra,\"ventas grandes\")"
      ],
      "execution_count": 20,
      "outputs": [
        {
          "output_type": "stream",
          "text": [
            "Ingrese la cantidad de ventas que realizo: \n",
            "3\n",
            "Ingrese el valor de la venta 1\n",
            " $180.25\n",
            "Ingrese el valor de la venta 2\n",
            " $470.30\n",
            "Ingrese el valor de la venta 3\n",
            " $150.25\n",
            "Usted realizo 2 ventas chicas\n",
            "Usted realizo 0 ventas medianas\n",
            "Usted realizo 1 ventas grandes\n"
          ],
          "name": "stdout"
        }
      ]
    },
    {
      "cell_type": "code",
      "metadata": {
        "id": "TNK3Zg8SfyMC",
        "colab": {
          "base_uri": "https://localhost:8080/"
        },
        "outputId": "cec9bd4e-4a8c-469a-81fd-01634795dec6"
      },
      "source": [
        "#Problema 3.8 \r\n",
        "Num = int(input(\"Colocar un número: \"))\r\n",
        "\r\n",
        "if Num > 0:\r\n",
        "  while (Num != 1):\r\n",
        "    print (Num)\r\n",
        "    if (Num%2 == 0):\r\n",
        "      Num = Num/2\r\n",
        "    else:\r\n",
        "      Num = Num*3+1\r\n",
        "  print(\"El número final es:\",Num)\r\n",
        "else:\r\n",
        "  print(\"Número tiene que ser un entero positivo\")"
      ],
      "execution_count": null,
      "outputs": [
        {
          "output_type": "stream",
          "text": [
            "Colocar un número: 76\n",
            "76\n",
            "38.0\n",
            "19.0\n",
            "58.0\n",
            "29.0\n",
            "88.0\n",
            "44.0\n",
            "22.0\n",
            "11.0\n",
            "34.0\n",
            "17.0\n",
            "52.0\n",
            "26.0\n",
            "13.0\n",
            "40.0\n",
            "20.0\n",
            "10.0\n",
            "5.0\n",
            "16.0\n",
            "8.0\n",
            "4.0\n",
            "2.0\n",
            "El número final es: 1.0\n"
          ],
          "name": "stdout"
        }
      ]
    },
    {
      "cell_type": "code",
      "metadata": {
        "id": "VzEuH993fybw",
        "colab": {
          "base_uri": "https://localhost:8080/"
        },
        "outputId": "87ab1ef3-0615-49e9-bb90-ad46fa9adf64"
      },
      "source": [
        "#Problema 3.9\r\n",
        "serie=0\r\n",
        "n= int (input(\"Ingrese un número entero:\"))\r\n",
        "i=1\r\n",
        "for i in range (n+1):\r\n",
        "  serie=serie+i**i\r\n",
        "  i=i+1\r\n",
        "print(f\"{serie}\")"
      ],
      "execution_count": 23,
      "outputs": [
        {
          "output_type": "stream",
          "text": [
            "Ingrese un número entero:8\n",
            "17650829\n"
          ],
          "name": "stdout"
        }
      ]
    },
    {
      "cell_type": "code",
      "metadata": {
        "id": "9TNoO2Xvfymx",
        "colab": {
          "base_uri": "https://localhost:8080/"
        },
        "outputId": "1d4beb58-42ac-4ef4-f6d4-e3bcfbf4b5e7"
      },
      "source": [
        "#Problema 3.10\r\n",
        "pri=0\r\n",
        "seg=1\r\n",
        "i=3\r\n",
        "for i in range (180):\r\n",
        "  sig=pri+seg\r\n",
        "  pri=seg\r\n",
        "  seg=sig\r\n",
        "  i=1+1\r\n",
        "\r\n",
        "print(f\"{sig}\")"
      ],
      "execution_count": 24,
      "outputs": [
        {
          "output_type": "stream",
          "text": [
            "30010821454963453907530667147829489881\n"
          ],
          "name": "stdout"
        }
      ]
    },
    {
      "cell_type": "code",
      "metadata": {
        "id": "guZvPFtPfywj",
        "colab": {
          "base_uri": "https://localhost:8080/"
        },
        "outputId": "3e459cc5-a457-4766-a482-fce0413440fe"
      },
      "source": [
        "#Problema 3.11\r\n",
        "can1=0\r\n",
        "can2=0\r\n",
        "can3=0\r\n",
        "can4=0\r\n",
        "print(\"Recuerde que solo hay 4 candidatos\")\r\n",
        "voto= int (input(\"INGRESE EL NÚMERO DEL CANDIDATO\\nPARA EL QUE SERA SU VOTO \\n\"))\r\n",
        "while (voto>0) and (voto<5):\r\n",
        "  if (voto == 1):\r\n",
        "    can1=can1+1\r\n",
        "  elif (voto==2):\r\n",
        "    can2=can2+1\r\n",
        "  elif (voto==3):\r\n",
        "    can3=can3+1\r\n",
        "  elif (voto==4):\r\n",
        "    can4=can4+1\r\n",
        "  voto= int (input(\"\\nINGRESE EL NÚMERO DEL CANDIDATO\\nPARA EL QUE SERA SU VOTO \\n\"))\r\n",
        "\r\n",
        "sumv=can1+can2+can3+can4\r\n",
        "por1=(can1/sumv)*100\r\n",
        "por2=(can2/sumv)*100\r\n",
        "por3=(can3/sumv)*100\r\n",
        "por4=(can4/sumv)*100\r\n",
        "\r\n",
        "print(\"En total, se sumaron\",sumv,\"votos\")\r\n",
        "print(\"Los votos que obtuvo el candidato #1 fueron\",can1,\"con un porcentaje del\",por1,\"%\")\r\n",
        "print(\"Los votos que obtuvo el candidato #2 fueron\",can2,\"con un porcentaje del\",por2,\"%\")\r\n",
        "print(\"Los votos que obtuvo el candidato #3 fueron\",can3,\"con un porcentaje del\",por3,\"%\")\r\n",
        "print(\"Los votos que obtuvo el candidato #4 fueron\",can4,\"con un porcentaje del\",por4,\"%\")"
      ],
      "execution_count": 25,
      "outputs": [
        {
          "output_type": "stream",
          "text": [
            "Recuerde que solo hay 4 candidatos\n",
            "INGRESE EL NÚMERO DEL CANDIDATO\n",
            "PARA EL QUE SERA SU VOTO \n",
            "4\n",
            "\n",
            "INGRESE EL NÚMERO DEL CANDIDATO\n",
            "PARA EL QUE SERA SU VOTO \n",
            "3\n",
            "\n",
            "INGRESE EL NÚMERO DEL CANDIDATO\n",
            "PARA EL QUE SERA SU VOTO \n",
            "2\n",
            "\n",
            "INGRESE EL NÚMERO DEL CANDIDATO\n",
            "PARA EL QUE SERA SU VOTO \n",
            "1\n",
            "\n",
            "INGRESE EL NÚMERO DEL CANDIDATO\n",
            "PARA EL QUE SERA SU VOTO \n",
            "4\n",
            "\n",
            "INGRESE EL NÚMERO DEL CANDIDATO\n",
            "PARA EL QUE SERA SU VOTO \n",
            "4\n",
            "\n",
            "INGRESE EL NÚMERO DEL CANDIDATO\n",
            "PARA EL QUE SERA SU VOTO \n",
            "3\n",
            "\n",
            "INGRESE EL NÚMERO DEL CANDIDATO\n",
            "PARA EL QUE SERA SU VOTO \n",
            "-1\n",
            "En total, se sumaron 7 votos\n",
            "Los votos que obtuvo el candidato #1 fueron 1 con un porcentaje del 14.285714285714285 %\n",
            "Los votos que obtuvo el candidato #2 fueron 1 con un porcentaje del 14.285714285714285 %\n",
            "Los votos que obtuvo el candidato #3 fueron 2 con un porcentaje del 28.57142857142857 %\n",
            "Los votos que obtuvo el candidato #4 fueron 3 con un porcentaje del 42.857142857142854 %\n"
          ],
          "name": "stdout"
        }
      ]
    },
    {
      "cell_type": "code",
      "metadata": {
        "id": "L6n4cOc0fy6x",
        "colab": {
          "base_uri": "https://localhost:8080/"
        },
        "outputId": "40dbc709-6555-4b46-b088-3d67ab260040"
      },
      "source": [
        "#Problema 3.12\r\n",
        "masue=0\r\n",
        "n= int (input(\"Ingrese la cantidad de empleados:\"))\r\n",
        "i=1\r\n",
        "for i in range (n):\r\n",
        "  print(f\"EMPLEADO NUMERO {i+1}\")\r\n",
        "  numemp= int (input(\"Ingrese su número de trabajador\\n\"))\r\n",
        "  sue= float (input(\"Ingrese su sueldo \\n$\"))\r\n",
        "  if (sue>masue):\r\n",
        "    masue= sue\r\n",
        "    manum=numemp\r\n",
        "  i=i+1\r\n",
        "\r\n",
        "print(\"El empleado con mayor sueldo es \",manum)\r\n",
        "print(\"Con un sueldo de $\",masue)"
      ],
      "execution_count": 28,
      "outputs": [
        {
          "output_type": "stream",
          "text": [
            "Ingrese la cantidad de empleados:4\n",
            "EMPLEADO NUMERO 1\n",
            "Ingrese su número de trabajador\n",
            "1235\n",
            "Ingrese su sueldo \n",
            "$2580\n",
            "EMPLEADO NUMERO 2\n",
            "Ingrese su número de trabajador\n",
            "1260\n",
            "Ingrese su sueldo \n",
            "$1400\n",
            "EMPLEADO NUMERO 3\n",
            "Ingrese su número de trabajador\n",
            "1650\n",
            "Ingrese su sueldo \n",
            "$4120\n",
            "EMPLEADO NUMERO 4\n",
            "Ingrese su número de trabajador\n",
            "1717\n",
            "Ingrese su sueldo \n",
            "$1950\n",
            "El empleado con mayor sueldo es  1650\n",
            "Con un sueldo de $ 4120.0\n"
          ],
          "name": "stdout"
        }
      ]
    },
    {
      "cell_type": "code",
      "metadata": {
        "id": "vvPeSP7NfzFh",
        "colab": {
          "base_uri": "https://localhost:8080/"
        },
        "outputId": "ace5d863-2c16-4a6d-f4a7-a11412ed319b"
      },
      "source": [
        "#Problema 3.13\r\n",
        "arsu=0\r\n",
        "arno=0\r\n",
        "mersu=500000\r\n",
        "arce=0\r\n",
        "i=1\r\n",
        "for i in range (12):\r\n",
        "  rno=float (input(f\"{i+1}.- Ingrese la cantidad de lluvias que hubo en la REGION NORTE\\n\"))\r\n",
        "  rce=float (input(f\"{i+1}.- Ingrese la cantidad de lluvias que hubo en la REGION CENTRO\\n\"))\r\n",
        "  rsu=float (input(f\"{i+1}.- Ingrese la cantidad de lluvias que hubo en la REGION SUR\\n\"))\r\n",
        "  arno=arno+rno\r\n",
        "  arce=arce+rce\r\n",
        "  arsu=arsu+rsu\r\n",
        "  if (rsu<mersu):\r\n",
        "    mersu=rsu\r\n",
        "    mes=i+1\r\n",
        "  i=i+1\r\n",
        "prorce=arce/12\r\n",
        "print(\"El promedio de lluvia de la region centro es\",prorce,\"%\")\r\n",
        "print(\"El mes con menor lluvia en la región sur fue\",mes)\r\n",
        "print(\"Registro del mes:\",mersu)\r\n",
        "\r\n",
        "if (arno>arce):\r\n",
        "  if (arno>arsu):\r\n",
        "    print(\"La region con mayor lluvia es la region norte\")\r\n",
        "  else: \r\n",
        "    print(\"La region con mayor lluvia es la region sur\")\r\n",
        "else:\r\n",
        "  if (arce>arsu):\r\n",
        "    print(\"La region con mayor lluvia es la region centro\")\r\n",
        "  else:\r\n",
        "    print(\"La region con mayot lluvia es la region sur\")"
      ],
      "execution_count": 50,
      "outputs": [
        {
          "output_type": "stream",
          "text": [
            "1.- Ingrese la cantidad de lluvias que hubo en la REGION NORTE\n",
            "80\n",
            "1.- Ingrese la cantidad de lluvias que hubo en la REGION CENTRO\n",
            "70\n",
            "1.- Ingrese la cantidad de lluvias que hubo en la REGION SUR\n",
            "170\n",
            "2.- Ingrese la cantidad de lluvias que hubo en la REGION NORTE\n",
            "60\n",
            "2.- Ingrese la cantidad de lluvias que hubo en la REGION CENTRO\n",
            "85\n",
            "2.- Ingrese la cantidad de lluvias que hubo en la REGION SUR\n",
            "100\n",
            "3.- Ingrese la cantidad de lluvias que hubo en la REGION NORTE\n",
            "120\n",
            "3.- Ingrese la cantidad de lluvias que hubo en la REGION CENTRO\n",
            "100\n",
            "3.- Ingrese la cantidad de lluvias que hubo en la REGION SUR\n",
            "185\n",
            "4.- Ingrese la cantidad de lluvias que hubo en la REGION NORTE\n",
            "100\n",
            "4.- Ingrese la cantidad de lluvias que hubo en la REGION CENTRO\n",
            "90\n",
            "4.- Ingrese la cantidad de lluvias que hubo en la REGION SUR\n",
            "88\n",
            "5.- Ingrese la cantidad de lluvias que hubo en la REGION NORTE\n",
            "70\n",
            "5.- Ingrese la cantidad de lluvias que hubo en la REGION CENTRO\n",
            "82\n",
            "5.- Ingrese la cantidad de lluvias que hubo en la REGION SUR\n",
            "80\n",
            "6.- Ingrese la cantidad de lluvias que hubo en la REGION NORTE\n",
            "150\n",
            "6.- Ingrese la cantidad de lluvias que hubo en la REGION CENTRO\n",
            "130\n",
            "6.- Ingrese la cantidad de lluvias que hubo en la REGION SUR\n",
            "122\n",
            "7.- Ingrese la cantidad de lluvias que hubo en la REGION NORTE\n",
            "100\n",
            "7.- Ingrese la cantidad de lluvias que hubo en la REGION CENTRO\n",
            "95\n",
            "7.- Ingrese la cantidad de lluvias que hubo en la REGION SUR\n",
            "67\n",
            "8.- Ingrese la cantidad de lluvias que hubo en la REGION NORTE\n",
            "47\n",
            "8.- Ingrese la cantidad de lluvias que hubo en la REGION CENTRO\n",
            "38\n",
            "8.- Ingrese la cantidad de lluvias que hubo en la REGION SUR\n",
            "55\n",
            "9.- Ingrese la cantidad de lluvias que hubo en la REGION NORTE\n",
            "95\n",
            "9.- Ingrese la cantidad de lluvias que hubo en la REGION CENTRO\n",
            "115\n",
            "9.- Ingrese la cantidad de lluvias que hubo en la REGION SUR\n",
            "110\n",
            "10.- Ingrese la cantidad de lluvias que hubo en la REGION NORTE\n",
            "70\n",
            "10.- Ingrese la cantidad de lluvias que hubo en la REGION CENTRO\n",
            "62\n",
            "10.- Ingrese la cantidad de lluvias que hubo en la REGION SUR\n",
            "83\n",
            "11.- Ingrese la cantidad de lluvias que hubo en la REGION NORTE\n",
            "100\n",
            "11.- Ingrese la cantidad de lluvias que hubo en la REGION CENTRO\n",
            "87\n",
            "11.- Ingrese la cantidad de lluvias que hubo en la REGION SUR\n",
            "107\n",
            "12.- Ingrese la cantidad de lluvias que hubo en la REGION NORTE\n",
            "130\n",
            "12.- Ingrese la cantidad de lluvias que hubo en la REGION CENTRO\n",
            "103\n",
            "12.- Ingrese la cantidad de lluvias que hubo en la REGION SUR\n",
            "148\n",
            "El promedio de lluvia de la region centro es 88.08333333333333 %\n",
            "El mes con menor lluvia en la región sur fue 8\n",
            "Registro del mes: 55.0\n",
            "La region con mayor lluvia es la region sur\n"
          ],
          "name": "stdout"
        }
      ]
    },
    {
      "cell_type": "code",
      "metadata": {
        "id": "NSmMCBNRfzPZ",
        "colab": {
          "base_uri": "https://localhost:8080/"
        },
        "outputId": "eddafdda-153a-4648-e74f-ecf7b9fe4925"
      },
      "source": [
        "#Problema 3.14\r\n",
        "ap1=0\r\n",
        "ap2=0\r\n",
        "ap3=0\r\n",
        "ap4=0\r\n",
        "ap5=0\r\n",
        "recau=0\r\n",
        "p1=float (input(\"Ingrese el precio de la localidad #1\\n $\"))\r\n",
        "p2=float (input(\"Ingrese el precio de la localidad #2\\n $\"))\r\n",
        "p3=float (input(\"Ingrese el precio de la localidad #3\\n $\"))\r\n",
        "p4=float (input(\"Ingrese el precio de la localidad #4\\n $\"))\r\n",
        "p5=float (input(\"Ingrese el precio de la localidad #5\\n $\"))\r\n",
        "clave=int (input(\"Indique el número de la localidad que desea comprar\\n\"))\r\n",
        "cant= int (input(\"¿Cuantos desea comprar?\\n\"))\r\n",
        "while ((clave!=-1) and (cant!=-1)):\r\n",
        "  if (clave<1) and (clave>4):\r\n",
        "    print(\"No existe esa clave\")\r\n",
        "  elif (clave==1):\r\n",
        "    pre=p1*cant\r\n",
        "    ap1=ap1+cant\r\n",
        "  elif (clave==2):\r\n",
        "    pre=p2*cant\r\n",
        "    ap2=ap2+cant\r\n",
        "  elif (clave==3):\r\n",
        "    pre=p3*cant\r\n",
        "    ap3=ap3+cant\r\n",
        "  elif (clave==4):\r\n",
        "    pre=p4*cant\r\n",
        "    ap4=ap4+cant \r\n",
        "  elif (clave==5):\r\n",
        "    pre=p5*cant\r\n",
        "    ap5=ap5+cant \r\n",
        "\r\n",
        "  print(\"CLAVE DE LOCALIDAD:\",clave,\"\\nCANTIDAD:\",cant,\"\\nPRECIO: $\",pre)  \r\n",
        "  recau=recau+pre\r\n",
        "  clave=int (input(\"Indique el número de la localidad que desea comprar\\n\"))\r\n",
        "  cant= int (input(\"¿Cuantos desea comprar?\\n\"))\r\n",
        "\r\n",
        "print(\"Usted compro\",ap1, \"boletos tipo 1\")\r\n",
        "print(\"Usted compro\",ap2, \"boletos tipo 2\")\r\n",
        "print(\"Usted compro\",ap3, \"boletos tipo 3\")\r\n",
        "print(\"Usted compro\",ap4, \"boletos tipo 4\")\r\n",
        "print(\"Usted compro\",ap5, \"boletos tipo 5\")\r\n",
        "print(\"Recaudacion del estado: $\",recau)"
      ],
      "execution_count": 34,
      "outputs": [
        {
          "output_type": "stream",
          "text": [
            "Ingrese el precio de la localidad #1\n",
            " $7.25\n",
            "Ingrese el precio de la localidad #2\n",
            " $15.80\n",
            "Ingrese el precio de la localidad #3\n",
            " $25.00\n",
            "Ingrese el precio de la localidad #4\n",
            " $50.00\n",
            "Ingrese el precio de la localidad #5\n",
            " $75.00\n",
            "Indique el número de la localidad que desea comprar\n",
            "3\n",
            "¿Cuantos desea comprar?\n",
            "10\n",
            "CLAVE DE LOCALIDAD: 3 \n",
            "CANTIDAD: 10 \n",
            "PRECIO: $ 250.0\n",
            "Indique el número de la localidad que desea comprar\n",
            "5\n",
            "¿Cuantos desea comprar?\n",
            "3\n",
            "CLAVE DE LOCALIDAD: 5 \n",
            "CANTIDAD: 3 \n",
            "PRECIO: $ 225.0\n",
            "Indique el número de la localidad que desea comprar\n",
            "1\n",
            "¿Cuantos desea comprar?\n",
            "20\n",
            "CLAVE DE LOCALIDAD: 1 \n",
            "CANTIDAD: 20 \n",
            "PRECIO: $ 145.0\n",
            "Indique el número de la localidad que desea comprar\n",
            "-1\n",
            "¿Cuantos desea comprar?\n",
            "-1\n",
            "Usted compro 20 boletos tipo 1\n",
            "Usted compro 0 boletos tipo 2\n",
            "Usted compro 10 boletos tipo 3\n",
            "Usted compro 0 boletos tipo 4\n",
            "Usted compro 3 boletos tipo 5\n",
            "Recaudacion del estado: $ 620.0\n"
          ],
          "name": "stdout"
        }
      ]
    },
    {
      "cell_type": "code",
      "metadata": {
        "id": "dp587PDSfzaR",
        "colab": {
          "base_uri": "https://localhost:8080/"
        },
        "outputId": "8b709bd9-5e17-44ba-d54e-8130bc26b633"
      },
      "source": [
        "#Problema 3.15\r\n",
        "cuenta=0\r\n",
        "print(\"TIPOS DE LLAMADAS\\nLOCAL=l   NACIONAL=n    INTERNACIONAL=i   SALIR=x   \")\r\n",
        "tipo= str (input(\"Ingrese el tipo de llamada a realizar\\n\"))\r\n",
        "dur= int (input(\"Indique la duracion de la llamada\\n\"))\r\n",
        "while ((tipo!=\"x\") and (dur!=-1)):\r\n",
        "  if (tipo==\"n\"):\r\n",
        "    if (dur>3):\r\n",
        "      costo=1.20+(dur-3)*0.48\r\n",
        "    else:\r\n",
        "      costo=1.20\r\n",
        "    \r\n",
        "  elif (tipo==\"l\"):\r\n",
        "    cl=cl+1\r\n",
        "    if (cl>50):\r\n",
        "      costo=.60\r\n",
        "    else:\r\n",
        "      costo= 0\r\n",
        "    \r\n",
        "  elif (tipo==\"i\"):\r\n",
        "    if (dur>3):\r\n",
        "      costo=7.59+(dur-3)*3.03\r\n",
        "    else:\r\n",
        "      costo=7.59\r\n",
        "\r\n",
        "  cuenta=cuenta+costo\r\n",
        "  tipo= str (input(\"Ingrese el tipo de llamada a realizar\\n\"))\r\n",
        "  dur= int (input(\"Indique la duracion de la llamada\\n\"))\r\n",
        "\r\n",
        "print(f\"El total a pagar es ${cuenta}\")"
      ],
      "execution_count": 44,
      "outputs": [
        {
          "output_type": "stream",
          "text": [
            "TIPOS DE LLAMADAS\n",
            "LOCAL=l   NACIONAL=n    INTERNACIONAL=i   SALIR=x   \n",
            "Ingrese el tipo de llamada a realizar\n",
            "n\n",
            "Indique la duracion de la llamada\n",
            "13\n",
            "Ingrese el tipo de llamada a realizar\n",
            "i\n",
            "Indique la duracion de la llamada\n",
            "7\n",
            "Ingrese el tipo de llamada a realizar\n",
            "n\n",
            "Indique la duracion de la llamada\n",
            "4\n",
            "Ingrese el tipo de llamada a realizar\n",
            "x\n",
            "Indique la duracion de la llamada\n",
            "-1\n",
            "El total a pagar es $27.39\n"
          ],
          "name": "stdout"
        }
      ]
    },
    {
      "cell_type": "code",
      "metadata": {
        "id": "-ySONDpVfzpD",
        "colab": {
          "base_uri": "https://localhost:8080/"
        },
        "outputId": "b0809a1b-db72-4844-ce59-a2e293ba7a2b"
      },
      "source": [
        "#Problema 3.16\r\n",
        "tipo1=0\r\n",
        "tipo2=0\r\n",
        "tipo3=0\r\n",
        "tipo4=0\r\n",
        "tipo5=0\r\n",
        "mctipo2=0\r\n",
        "\r\n",
        "n= int (input(\"Ingrese el numero de años ha calcular\"))\r\n",
        "i=1\r\n",
        "for i in range (n):\r\n",
        "  j=1\r\n",
        "  totvin=0\r\n",
        "  for j in range (5):\r\n",
        "    v= float (input(f\"Cantidad de litros del vino {j+11} \"))\r\n",
        "    totvin=totvin+v\r\n",
        "    if (j==1):\r\n",
        "      tipo1=tipo1+v\r\n",
        "\r\n",
        "    elif (j==2):\r\n",
        "      tipo2=tipo2+v\r\n",
        "      if (v >mctipo2):\r\n",
        "        mctipo2=v\r\n",
        "        año=i\r\n",
        "        \r\n",
        "    elif (j==3):\r\n",
        "      tipo3=tipo3+v\r\n",
        "      if (v==0):\r\n",
        "        print(f\"En el año {i+1} no se produjo vino tipo 3 \")\r\n",
        "    \r\n",
        "    elif (j==4):\r\n",
        "      tipo4=tipo4+v\r\n",
        "    \r\n",
        "    elif (j==5):\r\n",
        "      tipo5=tipo5+v\r\n",
        "\r\n",
        "  j=j+1\r\n",
        "\r\n",
        "print(f\"Total tipo 1:{tipo1} \")\r\n",
        "print(f\"Total tipo 2:{tipo2} \")\r\n",
        "print(f\"Total tipo 3:{tipo3} \")\r\n",
        "print(f\"Total tipo 4:{tipo4} \")\r\n",
        "print(f\"Total tipo 5:{tipo5} \")\r\n",
        "print(f\"Año en que se produjo mayor cantidad de vino tipo 2: {año}\\n Litros: {mctipo2} L.\")"
      ],
      "execution_count": 46,
      "outputs": [
        {
          "output_type": "stream",
          "text": [
            "Ingrese el numero de años ha calcular1\n",
            "Cantidad de litros del vino 11 100\n",
            "Cantidad de litros del vino 12 1\n",
            "Cantidad de litros del vino 13 20\n",
            "Cantidad de litros del vino 14 32\n",
            "Cantidad de litros del vino 15 20\n",
            "Total tipo 1:1.0 \n",
            "Total tipo 2:20.0 \n",
            "Total tipo 3:32.0 \n",
            "Total tipo 4:20.0 \n",
            "Total tipo 5:0 \n",
            "Año en que se produjo mayor cantidad de vino tipo 2: 0\n",
            " Litros: 20.0 L.\n"
          ],
          "name": "stdout"
        }
      ]
    },
    {
      "cell_type": "code",
      "metadata": {
        "id": "fiXY8AqQfz8C",
        "colab": {
          "base_uri": "https://localhost:8080/"
        },
        "outputId": "f37ec0bd-e5af-47bd-9ede-9e68495b1700"
      },
      "source": [
        "#Problema 3.17\r\n",
        "I=3\r\n",
        "SP=0\r\n",
        "M=int (input(\"Ingrese el número límite:\"))\r\n",
        "if M>= 1:\r\n",
        "  SP=SP +1\r\n",
        "  print(\"Número primo\",1)\r\n",
        "if M> 2:\r\n",
        "  SP= SP +1\r\n",
        "  print(\"Número primo\",2)\r\n",
        "while I<=M:\r\n",
        "      print(\"Número primo\",I)\r\n",
        "      SP= SP +1\r\n",
        "      I= I +2\r\n",
        "print(f\"Entre 1 y {M} hay {SP} números primos\")"
      ],
      "execution_count": 54,
      "outputs": [
        {
          "output_type": "stream",
          "text": [
            "Ingrese el número límite:10\n",
            "Número primo 1\n",
            "Número primo 2\n",
            "Número primo 3\n",
            "Número primo 5\n",
            "Número primo 7\n",
            "Número primo 9\n",
            "Entre 1 y 10 hay 6 números primos\n"
          ],
          "name": "stdout"
        }
      ]
    },
    {
      "cell_type": "code",
      "metadata": {
        "id": "Iq0yWeCQISIa",
        "colab": {
          "base_uri": "https://localhost:8080/"
        },
        "outputId": "27bcc5db-61ea-4388-af8f-bf0d0972ba05"
      },
      "source": [
        "#Problema 3.19\r\n",
        "num= int(input(\"Número: \"))\r\n",
        "print(\"El número 1 es un número perfecto\")\r\n",
        "for i in range(1, num) :\r\n",
        "  cont=0\r\n",
        "  j=1\r\n",
        "  while j <= int (i/2) :\r\n",
        "    if i%j == 0 :\r\n",
        "      cont+=j\r\n",
        "    j +=1\r\n",
        "    if cont == i :\r\n",
        "      print(f\"El número {i} es un número perfecto.\")"
      ],
      "execution_count": null,
      "outputs": [
        {
          "output_type": "stream",
          "text": [
            "Número: 7\n",
            "El número 1 es un número perfecto\n",
            "El número 6 es un número perfecto.\n"
          ],
          "name": "stdout"
        }
      ]
    }
  ]
}