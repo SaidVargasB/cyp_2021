{
  "nbformat": 4,
  "nbformat_minor": 0,
  "metadata": {
    "colab": {
      "name": "01/12/2020",
      "provenance": [],
      "authorship_tag": "ABX9TyNokxdsGIa7fJE0C0p8aiEQ",
      "include_colab_link": true
    },
    "kernelspec": {
      "name": "python3",
      "display_name": "Python 3"
    }
  },
  "cells": [
    {
      "cell_type": "markdown",
      "metadata": {
        "id": "view-in-github",
        "colab_type": "text"
      },
      "source": [
        "<a href=\"https://colab.research.google.com/github/SaidVargasB/cyp_2021/blob/main/01_12_2020.ipynb\" target=\"_parent\"><img src=\"https://colab.research.google.com/assets/colab-badge.svg\" alt=\"Open In Colab\"/></a>"
      ]
    },
    {
      "cell_type": "code",
      "metadata": {
        "colab": {
          "base_uri": "https://localhost:8080/"
        },
        "id": "3r6mny05S-zO",
        "outputId": "a3e7c289-9ad7-4847-fd5b-02d7e500ee0e"
      },
      "source": [
        "#Ejemplo 1\n",
        "primerNumero = int(input(\"Primer numero: \"))\n",
        "segundoNumero = int(input(\"Segundo numero: \"))\n",
        "tercerNumero = int(input(\"Tercer numero: \"))\n",
        "\n",
        "if primerNumero == segundoNumero and primerNumero == tercerNumero :\n",
        "    print(\"Todos los numeros son iguales\")\n",
        "elif primerNumero > segundoNumero :\n",
        "    if primerNumero > tercerNumero:\n",
        "        print(f\"El numero {primerNumero} es el mayor.\")\n",
        "    else :\n",
        "        print(f\"El numero {tercerNumero} es el mayor.\")\n",
        "else :\n",
        "    if segundoNumero > tercerNumero:\n",
        "        prin"
      ],
      "execution_count": null,
      "outputs": [
        {
          "output_type": "stream",
          "text": [
            "Primer numero: 5\n",
            "Segundo numero: 3\n",
            "Tercer numero: 2\n",
            "El numero 5 es el mayor.\n"
          ],
          "name": "stdout"
        }
      ]
    },
    {
      "cell_type": "code",
      "metadata": {
        "colab": {
          "base_uri": "https://localhost:8080/"
        },
        "id": "ejlMyiRdWtyC",
        "outputId": "704faec9-cf21-4b24-b725-c88bf9e96645"
      },
      "source": [
        "#Ejemplo 2\n",
        "print(\"Ingrese el nombre del trabajador\")\n",
        "nombre=str (input())\n",
        "print(\"¿Cuantas horas trabajo esta semana?\",nombre,\":\" )\n",
        "horas=int (input())\n",
        "print(\"¿Cuanto se le paga por hora?:\")\n",
        "sueldoH= float (input())\n",
        "\n",
        "#Evaluar su sueldo\n",
        "\n",
        "if (horas<=40):\n",
        "  pago = horas*sueldoH\n",
        "  print(nombre,\"Su pago total es de $\",pago)\n",
        "\n",
        "else:\n",
        "  extras = horas - 40\n",
        "  pago = 40*sueldoH\n",
        "  pagoFinal = pago + ((extras * sueldoH)*2)\n",
        "  print(nombre,\"Su pago total es de $\",pagoFinal)"
      ],
      "execution_count": null,
      "outputs": [
        {
          "output_type": "stream",
          "text": [
            "Ingrese el nombre del trabajador\n",
            "Said\n",
            "¿Cuantas horas trabajo esta semana? Said :\n",
            "5\n",
            "¿Cuanto se le paga por hora?:\n",
            "900\n",
            "Said Su pago total es de $ 4500.0\n"
          ],
          "name": "stdout"
        }
      ]
    },
    {
      "cell_type": "code",
      "metadata": {
        "colab": {
          "base_uri": "https://localhost:8080/"
        },
        "id": "f_j1qcgCZgRj",
        "outputId": "227f880d-2327-491c-a6bc-774820130495"
      },
      "source": [
        "#Ejemplo 3\n",
        "#Calcular el salario semanal de x trabajador\n",
        "#El salario semanal se calcula en base a las horas semanales trabajadas\n",
        "#El pago por hora es variable (se pide por teclado)\n",
        "#Si las horas trabajadas superan las 40 horas, el pago por hora extra es:\n",
        "#Doble en el rango de 41horas a 50horas\n",
        "#Triple en el rango de 51horas a 60 horas\n",
        "#Incentivo de $2000 si rebasa las 60 horas.\n",
        "\n",
        "print(\"Ingrese el nombre del trabajador\")\n",
        "nombre=str (input())\n",
        "print(\"¿Cuantas horas trabajo esta semana?\",nombre,\":\" )\n",
        "horas=int (input())\n",
        "print(\"¿Cuanto se le paga por hora?:\")\n",
        "sueldoH= float (input())\n",
        "\n",
        "#Evaluar el sueldo\n",
        "\n",
        "if (horas<=40):\n",
        "  pago=horas*sueldoH\n",
        "  print(nombre, \"su sueldo final es de $\",pago,\"\\n\")\n",
        "\n",
        "elif ((horas>=41)and(horas<=50)):\n",
        "  extrasDobles = horas-40\n",
        "  print(\"Horas extras dobles:\",extrasDobles)\n",
        "  pago=40*sueldoH\n",
        "  print(\"Sueldo base: $\",pago)\n",
        "  pagoDoble=extrasDobles*(sueldoH*2)\n",
        "  print(\"Pago de horas dobles: $\",pagoDoble)\n",
        "  pagoFinal=pagoDoble+pago\n",
        "  print(nombre, \",su sueldo total es de $\",pagoFinal)\n",
        "\n",
        "#\n",
        "\n",
        "elif ((horas>=51)and(horas<=60)):\n",
        "  extrasTriples= horas-50\n",
        "  print(\"Horas extras dobles:10\")\n",
        "  print(\"Horas extras triples\", extrasTriples)\n",
        "  pago=40*sueldoH\n",
        "  print(\"Sueldo base: $\",pago)\n",
        "  pagoDoble=10*(sueldoH*2)\n",
        "  print(\"Pago de horas dobles: $\",pagoDoble)\n",
        "  pagoTriple=extrasTriples * (sueldoH*3)\n",
        "  print(\"Pago de horas triples:\", pagoTriple)\n",
        "  pagoFinal=pagoDoble+pago+pagoTriple\n",
        "  print(nombre, \",su sueldo total es de $\",pagoFinal)\n",
        "\n",
        "else:\n",
        "  extrasTriples=10\n",
        "  print(\"Horas dobles 10\")\n",
        "  print(\"Horas extra triples 10\")\n",
        "  pago=40*sueldoH\n",
        "  print(\"Sueldo base: $\", pago)\n",
        "  pagoDoble=10*(sueldoH*2)\n",
        "  print(\"Pago de horas extra Dobles:\", pagoDoble)\n",
        "  pagoTriple=extrasTriples*(sueldoH*3)\n",
        "  print(\"Pago de horas extra Triples:\", pagoTriple)\n",
        "  print(\"Incentivo por trabajar mas de 60 horas: $2000\")\n",
        "  pagoFinal=pago+pagoDoble+pagoTriple+2000\n",
        "  print(nombre, \",su sueldo total es de $\",pagoFinal)"
      ],
      "execution_count": 2,
      "outputs": [
        {
          "output_type": "stream",
          "text": [
            "Ingrese el nombre del trabajador\n",
            "Enrique\n",
            "¿Cuantas horas trabajo esta semana? Enrique :\n",
            "65\n",
            "¿Cuanto se le paga por hora?:\n",
            "200\n",
            "Horas dobles 10\n",
            "Horas extra triples 10\n",
            "Sueldo base: $ 8000.0\n",
            "Pago de horas extra Dobles: 4000.0\n",
            "Pago de horas extra Triples: 6000.0\n",
            "Incentivo por trabajar mas de 60 horas: $2000\n",
            "Enrique ,su sueldo total es de $ 20000.0\n"
          ],
          "name": "stdout"
        }
      ]
    },
    {
      "cell_type": "code",
      "metadata": {
        "colab": {
          "base_uri": "https://localhost:8080/"
        },
        "id": "QYaUTdt2oGb-",
        "outputId": "6031effd-d80b-4be2-ab47-fe7f75ff169e"
      },
      "source": [
        "#Estructura For\n",
        "#Ejemplo 1\n",
        "for estaciones_año  in {\"primavera\", \"verano\", \"otoño\", \"invierno\"}:\n",
        "  print(estaciones_año)\n",
        "\n",
        "#Variables que se suelen formar parte de for son: \"i\""
      ],
      "execution_count": 7,
      "outputs": [
        {
          "output_type": "stream",
          "text": [
            "primavera\n",
            "otoño\n",
            "invierno\n",
            "verano\n"
          ],
          "name": "stdout"
        }
      ]
    }
  ]
}